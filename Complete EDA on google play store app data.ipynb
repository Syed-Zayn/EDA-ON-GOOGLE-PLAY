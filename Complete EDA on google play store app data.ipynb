{
 "cells": [
  {
   "cell_type": "markdown",
   "id": "c096c02d",
   "metadata": {
    "papermill": {
     "duration": 0.018045,
     "end_time": "2024-07-13T15:50:14.527708",
     "exception": false,
     "start_time": "2024-07-13T15:50:14.509663",
     "status": "completed"
    },
    "tags": []
   },
   "source": [
    "# About Dataset\n",
    "### Context\n",
    "\n",
    "While many public datasets (on Kaggle and the like) provide Apple App Store data, there are not many counterpart datasets available for Google Play Store apps anywhere on the web. On digging deeper, I found out that iTunes App Store page deploys a nicely indexed appendix-like structure to allow for simple and easy web scraping. On the other hand, Google Play Store uses sophisticated modern-day techniques (like dynamic page load) using JQuery making scraping more challenging.\n",
    "\n",
    "\n",
    "### Content\n",
    "Each app (row) has values for catergory, rating, size, and more.\n",
    "\n",
    "### Acknowledgements\n",
    "This information is scraped from the Google Play Store. This app information would not be available without it.\n",
    "\n",
    "### Inspiration\n",
    "The Play Store apps data has enormous potential to drive app-making businesses to success. Actionable insights can be drawn for developers to work on and capture the Android market!\n"
   ]
  },
  {
   "cell_type": "markdown",
   "id": "b51a908c",
   "metadata": {
    "papermill": {
     "duration": 0.021137,
     "end_time": "2024-07-13T15:50:14.565764",
     "exception": false,
     "start_time": "2024-07-13T15:50:14.544627",
     "status": "completed"
    },
    "tags": []
   },
   "source": [
    "## 1.0 About Author¶\n",
    "Project: Google PLay store apps\n",
    "\n",
    "\n",
    "Author:Zain Shah\n",
    "\n",
    "​\n",
    "Code Submission Date: 13-07-2024\n",
    "\n",
    "​\n",
    "Email:zainshah.5109@gmail.com\n",
    "\n",
    "​\n",
    "linkdn: www.linkedin.com/in/syed-zayn-shah-naqvi-a2a7772a2\n",
    "\n",
    "​\n",
    "Github:Syed-Zayn\n",
    "\n",
    "​\n",
    "## 2.0 About Data\n",
    "The dataset provide latest statistical global data on covid 19- the total cases, death counts, recovered number of patients in a country-wise format, which makes it suitable for data analytics and clustering. The dataset has been updated up until 2024. The available file is in CSV format.\n",
    "\n",
    "​\n",
    "Data: google-play-store-apps.csv\n",
    "\n",
    "\n",
    "Dataset: https://www.kaggle.com/datasets/lava18/google-play-store-apps/versions/6\n",
    "​\n",
    "\n",
    "## 2.1 Task:\n",
    "We intend to conduct an Exploratory Data Analysis (EDA) on the given dataset. The EDA will serve as the basis for the necessary Data Wrangling activities to be carried out for the purposes of \n",
    "data cleaning and normalization. During the coding process, we will document our observations. Ultimately, we will produce a summary and draw conclusions from our findings\n",
    "​\n",
    "## 2.2 Objectives:\n",
    "The primary aim of this project is to conduct a thorough analysis of the dataset to identify significant insights. The ultimate goal is to project and emphasize customer dynamics and demands to developers and other relevant stakeholders. This will assist in driving more business towards their upcoming applications.\n",
    "\n",
    "​\n",
    "Kernel Version Used:\n",
    "\n",
    "Python 3.12.0\n",
    "​\n",
    "## 3.0 Import Libraries\n",
    "We will use the follwoing libraries\n",
    "\n",
    "​\n",
    "Pandas: Data manipulation and analysis library.\n",
    "\n",
    "​\n",
    "Numpy: Numerical computing library.\n",
    "\n",
    "​\n",
    "Matplotlib: Data visualization library.\n",
    "​\n",
    "\n",
    "Seaborn: Statistical data visualization library.\n"
   ]
  },
  {
   "cell_type": "code",
   "execution_count": 1,
   "id": "278d5351",
   "metadata": {
    "_cell_guid": "b1076dfc-b9ad-4769-8c92-a6c4dae69d19",
    "_uuid": "8f2839f25d086af736a60e9eeb907d3b93b6e0e5",
    "execution": {
     "iopub.execute_input": "2024-07-13T15:50:14.603685Z",
     "iopub.status.busy": "2024-07-13T15:50:14.602593Z",
     "iopub.status.idle": "2024-07-13T15:50:16.957671Z",
     "shell.execute_reply": "2024-07-13T15:50:16.955838Z"
    },
    "papermill": {
     "duration": 2.376572,
     "end_time": "2024-07-13T15:50:16.960419",
     "exception": false,
     "start_time": "2024-07-13T15:50:14.583847",
     "status": "completed"
    },
    "tags": []
   },
   "outputs": [
    {
     "name": "stdout",
     "output_type": "stream",
     "text": [
      "/kaggle/input/google-play-store-apps/googleplaystore.csv\n",
      "/kaggle/input/google-play-store-apps/license.txt\n",
      "/kaggle/input/google-play-store-apps/googleplaystore_user_reviews.csv\n"
     ]
    }
   ],
   "source": [
    "\n",
    "import numpy as np\n",
    "import pandas as pd\n",
    "import seaborn as sns\n",
    "import matplotlib.pyplot as plt\n",
    "import warnings\n",
    "\n",
    "\n",
    "import os\n",
    "for dirname, _, filenames in os.walk('/kaggle/input'):\n",
    "    for filename in filenames:\n",
    "        print(os.path.join(dirname, filename))\n",
    "\n"
   ]
  },
  {
   "cell_type": "code",
   "execution_count": 2,
   "id": "03692b4b",
   "metadata": {
    "execution": {
     "iopub.execute_input": "2024-07-13T15:50:16.997199Z",
     "iopub.status.busy": "2024-07-13T15:50:16.996685Z",
     "iopub.status.idle": "2024-07-13T15:50:17.002199Z",
     "shell.execute_reply": "2024-07-13T15:50:17.001092Z"
    },
    "papermill": {
     "duration": 0.026572,
     "end_time": "2024-07-13T15:50:17.004610",
     "exception": false,
     "start_time": "2024-07-13T15:50:16.978038",
     "status": "completed"
    },
    "tags": []
   },
   "outputs": [],
   "source": [
    "# set options to be maximum for rows and columns\n",
    "pd.set_option('display.max_columns', None)\n",
    "pd.set_option('display.max_rows', None)\n",
    "# hide all warnings\n",
    "warnings.filterwarnings('ignore') "
   ]
  },
  {
   "cell_type": "markdown",
   "id": "e51e63ba",
   "metadata": {
    "papermill": {
     "duration": 0.016794,
     "end_time": "2024-07-13T15:50:17.038619",
     "exception": false,
     "start_time": "2024-07-13T15:50:17.021825",
     "status": "completed"
    },
    "tags": []
   },
   "source": [
    "# Reading file ,Cleaning and Exploring Data"
   ]
  },
  {
   "cell_type": "code",
   "execution_count": 3,
   "id": "2f2c8e2a",
   "metadata": {
    "execution": {
     "iopub.execute_input": "2024-07-13T15:50:17.074156Z",
     "iopub.status.busy": "2024-07-13T15:50:17.073734Z",
     "iopub.status.idle": "2024-07-13T15:50:17.159272Z",
     "shell.execute_reply": "2024-07-13T15:50:17.158140Z"
    },
    "papermill": {
     "duration": 0.106657,
     "end_time": "2024-07-13T15:50:17.162210",
     "exception": false,
     "start_time": "2024-07-13T15:50:17.055553",
     "status": "completed"
    },
    "tags": []
   },
   "outputs": [],
   "source": [
    "df=pd.read_csv('/kaggle/input/google-play-store-apps/googleplaystore.csv')"
   ]
  },
  {
   "cell_type": "code",
   "execution_count": 4,
   "id": "123d75b9",
   "metadata": {
    "execution": {
     "iopub.execute_input": "2024-07-13T15:50:17.198600Z",
     "iopub.status.busy": "2024-07-13T15:50:17.198190Z",
     "iopub.status.idle": "2024-07-13T15:50:17.228764Z",
     "shell.execute_reply": "2024-07-13T15:50:17.227608Z"
    },
    "papermill": {
     "duration": 0.051937,
     "end_time": "2024-07-13T15:50:17.231417",
     "exception": false,
     "start_time": "2024-07-13T15:50:17.179480",
     "status": "completed"
    },
    "tags": []
   },
   "outputs": [
    {
     "data": {
      "text/html": [
       "<div>\n",
       "<style scoped>\n",
       "    .dataframe tbody tr th:only-of-type {\n",
       "        vertical-align: middle;\n",
       "    }\n",
       "\n",
       "    .dataframe tbody tr th {\n",
       "        vertical-align: top;\n",
       "    }\n",
       "\n",
       "    .dataframe thead th {\n",
       "        text-align: right;\n",
       "    }\n",
       "</style>\n",
       "<table border=\"1\" class=\"dataframe\">\n",
       "  <thead>\n",
       "    <tr style=\"text-align: right;\">\n",
       "      <th></th>\n",
       "      <th>App</th>\n",
       "      <th>Category</th>\n",
       "      <th>Rating</th>\n",
       "      <th>Reviews</th>\n",
       "      <th>Size</th>\n",
       "      <th>Installs</th>\n",
       "      <th>Type</th>\n",
       "      <th>Price</th>\n",
       "      <th>Content Rating</th>\n",
       "      <th>Genres</th>\n",
       "      <th>Last Updated</th>\n",
       "      <th>Current Ver</th>\n",
       "      <th>Android Ver</th>\n",
       "    </tr>\n",
       "  </thead>\n",
       "  <tbody>\n",
       "    <tr>\n",
       "      <th>0</th>\n",
       "      <td>Photo Editor &amp; Candy Camera &amp; Grid &amp; ScrapBook</td>\n",
       "      <td>ART_AND_DESIGN</td>\n",
       "      <td>4.1</td>\n",
       "      <td>159</td>\n",
       "      <td>19M</td>\n",
       "      <td>10,000+</td>\n",
       "      <td>Free</td>\n",
       "      <td>0</td>\n",
       "      <td>Everyone</td>\n",
       "      <td>Art &amp; Design</td>\n",
       "      <td>January 7, 2018</td>\n",
       "      <td>1.0.0</td>\n",
       "      <td>4.0.3 and up</td>\n",
       "    </tr>\n",
       "    <tr>\n",
       "      <th>1</th>\n",
       "      <td>Coloring book moana</td>\n",
       "      <td>ART_AND_DESIGN</td>\n",
       "      <td>3.9</td>\n",
       "      <td>967</td>\n",
       "      <td>14M</td>\n",
       "      <td>500,000+</td>\n",
       "      <td>Free</td>\n",
       "      <td>0</td>\n",
       "      <td>Everyone</td>\n",
       "      <td>Art &amp; Design;Pretend Play</td>\n",
       "      <td>January 15, 2018</td>\n",
       "      <td>2.0.0</td>\n",
       "      <td>4.0.3 and up</td>\n",
       "    </tr>\n",
       "    <tr>\n",
       "      <th>2</th>\n",
       "      <td>U Launcher Lite – FREE Live Cool Themes, Hide ...</td>\n",
       "      <td>ART_AND_DESIGN</td>\n",
       "      <td>4.7</td>\n",
       "      <td>87510</td>\n",
       "      <td>8.7M</td>\n",
       "      <td>5,000,000+</td>\n",
       "      <td>Free</td>\n",
       "      <td>0</td>\n",
       "      <td>Everyone</td>\n",
       "      <td>Art &amp; Design</td>\n",
       "      <td>August 1, 2018</td>\n",
       "      <td>1.2.4</td>\n",
       "      <td>4.0.3 and up</td>\n",
       "    </tr>\n",
       "    <tr>\n",
       "      <th>3</th>\n",
       "      <td>Sketch - Draw &amp; Paint</td>\n",
       "      <td>ART_AND_DESIGN</td>\n",
       "      <td>4.5</td>\n",
       "      <td>215644</td>\n",
       "      <td>25M</td>\n",
       "      <td>50,000,000+</td>\n",
       "      <td>Free</td>\n",
       "      <td>0</td>\n",
       "      <td>Teen</td>\n",
       "      <td>Art &amp; Design</td>\n",
       "      <td>June 8, 2018</td>\n",
       "      <td>Varies with device</td>\n",
       "      <td>4.2 and up</td>\n",
       "    </tr>\n",
       "    <tr>\n",
       "      <th>4</th>\n",
       "      <td>Pixel Draw - Number Art Coloring Book</td>\n",
       "      <td>ART_AND_DESIGN</td>\n",
       "      <td>4.3</td>\n",
       "      <td>967</td>\n",
       "      <td>2.8M</td>\n",
       "      <td>100,000+</td>\n",
       "      <td>Free</td>\n",
       "      <td>0</td>\n",
       "      <td>Everyone</td>\n",
       "      <td>Art &amp; Design;Creativity</td>\n",
       "      <td>June 20, 2018</td>\n",
       "      <td>1.1</td>\n",
       "      <td>4.4 and up</td>\n",
       "    </tr>\n",
       "  </tbody>\n",
       "</table>\n",
       "</div>"
      ],
      "text/plain": [
       "                                                 App        Category  Rating  \\\n",
       "0     Photo Editor & Candy Camera & Grid & ScrapBook  ART_AND_DESIGN     4.1   \n",
       "1                                Coloring book moana  ART_AND_DESIGN     3.9   \n",
       "2  U Launcher Lite – FREE Live Cool Themes, Hide ...  ART_AND_DESIGN     4.7   \n",
       "3                              Sketch - Draw & Paint  ART_AND_DESIGN     4.5   \n",
       "4              Pixel Draw - Number Art Coloring Book  ART_AND_DESIGN     4.3   \n",
       "\n",
       "  Reviews  Size     Installs  Type Price Content Rating  \\\n",
       "0     159   19M      10,000+  Free     0       Everyone   \n",
       "1     967   14M     500,000+  Free     0       Everyone   \n",
       "2   87510  8.7M   5,000,000+  Free     0       Everyone   \n",
       "3  215644   25M  50,000,000+  Free     0           Teen   \n",
       "4     967  2.8M     100,000+  Free     0       Everyone   \n",
       "\n",
       "                      Genres      Last Updated         Current Ver  \\\n",
       "0               Art & Design   January 7, 2018               1.0.0   \n",
       "1  Art & Design;Pretend Play  January 15, 2018               2.0.0   \n",
       "2               Art & Design    August 1, 2018               1.2.4   \n",
       "3               Art & Design      June 8, 2018  Varies with device   \n",
       "4    Art & Design;Creativity     June 20, 2018                 1.1   \n",
       "\n",
       "    Android Ver  \n",
       "0  4.0.3 and up  \n",
       "1  4.0.3 and up  \n",
       "2  4.0.3 and up  \n",
       "3    4.2 and up  \n",
       "4    4.4 and up  "
      ]
     },
     "execution_count": 4,
     "metadata": {},
     "output_type": "execute_result"
    }
   ],
   "source": [
    "df.head()"
   ]
  },
  {
   "cell_type": "code",
   "execution_count": 5,
   "id": "7de9c1cd",
   "metadata": {
    "execution": {
     "iopub.execute_input": "2024-07-13T15:50:17.267686Z",
     "iopub.status.busy": "2024-07-13T15:50:17.267253Z",
     "iopub.status.idle": "2024-07-13T15:50:17.297753Z",
     "shell.execute_reply": "2024-07-13T15:50:17.296383Z"
    },
    "papermill": {
     "duration": 0.051606,
     "end_time": "2024-07-13T15:50:17.300151",
     "exception": false,
     "start_time": "2024-07-13T15:50:17.248545",
     "status": "completed"
    },
    "tags": []
   },
   "outputs": [
    {
     "name": "stdout",
     "output_type": "stream",
     "text": [
      "<class 'pandas.core.frame.DataFrame'>\n",
      "RangeIndex: 10841 entries, 0 to 10840\n",
      "Data columns (total 13 columns):\n",
      " #   Column          Non-Null Count  Dtype  \n",
      "---  ------          --------------  -----  \n",
      " 0   App             10841 non-null  object \n",
      " 1   Category        10841 non-null  object \n",
      " 2   Rating          9367 non-null   float64\n",
      " 3   Reviews         10841 non-null  object \n",
      " 4   Size            10841 non-null  object \n",
      " 5   Installs        10841 non-null  object \n",
      " 6   Type            10840 non-null  object \n",
      " 7   Price           10841 non-null  object \n",
      " 8   Content Rating  10840 non-null  object \n",
      " 9   Genres          10841 non-null  object \n",
      " 10  Last Updated    10841 non-null  object \n",
      " 11  Current Ver     10833 non-null  object \n",
      " 12  Android Ver     10838 non-null  object \n",
      "dtypes: float64(1), object(12)\n",
      "memory usage: 1.1+ MB\n"
     ]
    }
   ],
   "source": [
    "df.info()"
   ]
  },
  {
   "cell_type": "code",
   "execution_count": 6,
   "id": "77cd90d6",
   "metadata": {
    "execution": {
     "iopub.execute_input": "2024-07-13T15:50:17.337975Z",
     "iopub.status.busy": "2024-07-13T15:50:17.337184Z",
     "iopub.status.idle": "2024-07-13T15:50:17.353214Z",
     "shell.execute_reply": "2024-07-13T15:50:17.352092Z"
    },
    "papermill": {
     "duration": 0.037319,
     "end_time": "2024-07-13T15:50:17.355677",
     "exception": false,
     "start_time": "2024-07-13T15:50:17.318358",
     "status": "completed"
    },
    "tags": []
   },
   "outputs": [
    {
     "data": {
      "text/html": [
       "<div>\n",
       "<style scoped>\n",
       "    .dataframe tbody tr th:only-of-type {\n",
       "        vertical-align: middle;\n",
       "    }\n",
       "\n",
       "    .dataframe tbody tr th {\n",
       "        vertical-align: top;\n",
       "    }\n",
       "\n",
       "    .dataframe thead th {\n",
       "        text-align: right;\n",
       "    }\n",
       "</style>\n",
       "<table border=\"1\" class=\"dataframe\">\n",
       "  <thead>\n",
       "    <tr style=\"text-align: right;\">\n",
       "      <th></th>\n",
       "      <th>Rating</th>\n",
       "    </tr>\n",
       "  </thead>\n",
       "  <tbody>\n",
       "    <tr>\n",
       "      <th>count</th>\n",
       "      <td>9367.000000</td>\n",
       "    </tr>\n",
       "    <tr>\n",
       "      <th>mean</th>\n",
       "      <td>4.193338</td>\n",
       "    </tr>\n",
       "    <tr>\n",
       "      <th>std</th>\n",
       "      <td>0.537431</td>\n",
       "    </tr>\n",
       "    <tr>\n",
       "      <th>min</th>\n",
       "      <td>1.000000</td>\n",
       "    </tr>\n",
       "    <tr>\n",
       "      <th>25%</th>\n",
       "      <td>4.000000</td>\n",
       "    </tr>\n",
       "    <tr>\n",
       "      <th>50%</th>\n",
       "      <td>4.300000</td>\n",
       "    </tr>\n",
       "    <tr>\n",
       "      <th>75%</th>\n",
       "      <td>4.500000</td>\n",
       "    </tr>\n",
       "    <tr>\n",
       "      <th>max</th>\n",
       "      <td>19.000000</td>\n",
       "    </tr>\n",
       "  </tbody>\n",
       "</table>\n",
       "</div>"
      ],
      "text/plain": [
       "            Rating\n",
       "count  9367.000000\n",
       "mean      4.193338\n",
       "std       0.537431\n",
       "min       1.000000\n",
       "25%       4.000000\n",
       "50%       4.300000\n",
       "75%       4.500000\n",
       "max      19.000000"
      ]
     },
     "execution_count": 6,
     "metadata": {},
     "output_type": "execute_result"
    }
   ],
   "source": [
    "df.describe()"
   ]
  },
  {
   "cell_type": "code",
   "execution_count": 7,
   "id": "99e2802a",
   "metadata": {
    "execution": {
     "iopub.execute_input": "2024-07-13T15:50:17.392950Z",
     "iopub.status.busy": "2024-07-13T15:50:17.392519Z",
     "iopub.status.idle": "2024-07-13T15:50:17.399835Z",
     "shell.execute_reply": "2024-07-13T15:50:17.398583Z"
    },
    "papermill": {
     "duration": 0.028721,
     "end_time": "2024-07-13T15:50:17.402132",
     "exception": false,
     "start_time": "2024-07-13T15:50:17.373411",
     "status": "completed"
    },
    "tags": []
   },
   "outputs": [
    {
     "data": {
      "text/plain": [
       "(10841, 13)"
      ]
     },
     "execution_count": 7,
     "metadata": {},
     "output_type": "execute_result"
    }
   ],
   "source": [
    "df.shape"
   ]
  },
  {
   "cell_type": "code",
   "execution_count": 8,
   "id": "794bdb2e",
   "metadata": {
    "execution": {
     "iopub.execute_input": "2024-07-13T15:50:17.438680Z",
     "iopub.status.busy": "2024-07-13T15:50:17.438304Z",
     "iopub.status.idle": "2024-07-13T15:50:17.452150Z",
     "shell.execute_reply": "2024-07-13T15:50:17.450881Z"
    },
    "papermill": {
     "duration": 0.034915,
     "end_time": "2024-07-13T15:50:17.454531",
     "exception": false,
     "start_time": "2024-07-13T15:50:17.419616",
     "status": "completed"
    },
    "tags": []
   },
   "outputs": [
    {
     "data": {
      "text/plain": [
       "800"
      ]
     },
     "execution_count": 8,
     "metadata": {},
     "output_type": "execute_result"
    }
   ],
   "source": [
    "df['Price'].loc[df['Price'].str.contains('\\$')].value_counts().sum()"
   ]
  },
  {
   "cell_type": "code",
   "execution_count": 9,
   "id": "d0a9ebda",
   "metadata": {
    "execution": {
     "iopub.execute_input": "2024-07-13T15:50:17.491754Z",
     "iopub.status.busy": "2024-07-13T15:50:17.491360Z",
     "iopub.status.idle": "2024-07-13T15:50:17.507232Z",
     "shell.execute_reply": "2024-07-13T15:50:17.505900Z"
    },
    "papermill": {
     "duration": 0.037487,
     "end_time": "2024-07-13T15:50:17.509479",
     "exception": false,
     "start_time": "2024-07-13T15:50:17.471992",
     "status": "completed"
    },
    "tags": []
   },
   "outputs": [
    {
     "data": {
      "text/plain": [
       "App                  0\n",
       "Category             0\n",
       "Rating            1474\n",
       "Reviews              0\n",
       "Size                 0\n",
       "Installs             0\n",
       "Type                 1\n",
       "Price                0\n",
       "Content Rating       1\n",
       "Genres               0\n",
       "Last Updated         0\n",
       "Current Ver          8\n",
       "Android Ver          3\n",
       "dtype: int64"
      ]
     },
     "execution_count": 9,
     "metadata": {},
     "output_type": "execute_result"
    }
   ],
   "source": [
    "df.isnull().sum()"
   ]
  },
  {
   "cell_type": "code",
   "execution_count": 10,
   "id": "e5ed33aa",
   "metadata": {
    "execution": {
     "iopub.execute_input": "2024-07-13T15:50:17.546893Z",
     "iopub.status.busy": "2024-07-13T15:50:17.545958Z",
     "iopub.status.idle": "2024-07-13T15:50:17.562284Z",
     "shell.execute_reply": "2024-07-13T15:50:17.561124Z"
    },
    "papermill": {
     "duration": 0.0376,
     "end_time": "2024-07-13T15:50:17.564703",
     "exception": false,
     "start_time": "2024-07-13T15:50:17.527103",
     "status": "completed"
    },
    "tags": []
   },
   "outputs": [
    {
     "data": {
      "text/plain": [
       "Type\n",
       "Free    10039\n",
       "dtype: int64"
      ]
     },
     "execution_count": 10,
     "metadata": {},
     "output_type": "execute_result"
    }
   ],
   "source": [
    "a=df['Price']=='0'\n",
    "df[a].groupby('Type').size()"
   ]
  },
  {
   "cell_type": "code",
   "execution_count": 11,
   "id": "6a35c943",
   "metadata": {
    "execution": {
     "iopub.execute_input": "2024-07-13T15:50:17.601940Z",
     "iopub.status.busy": "2024-07-13T15:50:17.601466Z",
     "iopub.status.idle": "2024-07-13T15:50:17.611013Z",
     "shell.execute_reply": "2024-07-13T15:50:17.609830Z"
    },
    "papermill": {
     "duration": 0.03091,
     "end_time": "2024-07-13T15:50:17.613288",
     "exception": false,
     "start_time": "2024-07-13T15:50:17.582378",
     "status": "completed"
    },
    "tags": []
   },
   "outputs": [],
   "source": [
    "df['Price']=df['Price'].apply(lambda x: x.replace('$',''))"
   ]
  },
  {
   "cell_type": "code",
   "execution_count": 12,
   "id": "471be3f3",
   "metadata": {
    "execution": {
     "iopub.execute_input": "2024-07-13T15:50:17.651619Z",
     "iopub.status.busy": "2024-07-13T15:50:17.650404Z",
     "iopub.status.idle": "2024-07-13T15:50:17.662672Z",
     "shell.execute_reply": "2024-07-13T15:50:17.661481Z"
    },
    "papermill": {
     "duration": 0.034107,
     "end_time": "2024-07-13T15:50:17.665274",
     "exception": false,
     "start_time": "2024-07-13T15:50:17.631167",
     "status": "completed"
    },
    "tags": []
   },
   "outputs": [],
   "source": [
    "df['Price']=pd.to_numeric(df['Price'],errors='coerce')"
   ]
  },
  {
   "cell_type": "code",
   "execution_count": 13,
   "id": "eafe7aab",
   "metadata": {
    "execution": {
     "iopub.execute_input": "2024-07-13T15:50:17.761701Z",
     "iopub.status.busy": "2024-07-13T15:50:17.761212Z",
     "iopub.status.idle": "2024-07-13T15:50:17.779128Z",
     "shell.execute_reply": "2024-07-13T15:50:17.777850Z"
    },
    "papermill": {
     "duration": 0.098015,
     "end_time": "2024-07-13T15:50:17.781711",
     "exception": false,
     "start_time": "2024-07-13T15:50:17.683696",
     "status": "completed"
    },
    "tags": []
   },
   "outputs": [
    {
     "data": {
      "text/html": [
       "<div>\n",
       "<style scoped>\n",
       "    .dataframe tbody tr th:only-of-type {\n",
       "        vertical-align: middle;\n",
       "    }\n",
       "\n",
       "    .dataframe tbody tr th {\n",
       "        vertical-align: top;\n",
       "    }\n",
       "\n",
       "    .dataframe thead th {\n",
       "        text-align: right;\n",
       "    }\n",
       "</style>\n",
       "<table border=\"1\" class=\"dataframe\">\n",
       "  <thead>\n",
       "    <tr style=\"text-align: right;\">\n",
       "      <th></th>\n",
       "      <th>Rating</th>\n",
       "      <th>Price</th>\n",
       "    </tr>\n",
       "  </thead>\n",
       "  <tbody>\n",
       "    <tr>\n",
       "      <th>count</th>\n",
       "      <td>9367.000000</td>\n",
       "      <td>10840.000000</td>\n",
       "    </tr>\n",
       "    <tr>\n",
       "      <th>mean</th>\n",
       "      <td>4.193338</td>\n",
       "      <td>1.027368</td>\n",
       "    </tr>\n",
       "    <tr>\n",
       "      <th>std</th>\n",
       "      <td>0.537431</td>\n",
       "      <td>15.949703</td>\n",
       "    </tr>\n",
       "    <tr>\n",
       "      <th>min</th>\n",
       "      <td>1.000000</td>\n",
       "      <td>0.000000</td>\n",
       "    </tr>\n",
       "    <tr>\n",
       "      <th>25%</th>\n",
       "      <td>4.000000</td>\n",
       "      <td>0.000000</td>\n",
       "    </tr>\n",
       "    <tr>\n",
       "      <th>50%</th>\n",
       "      <td>4.300000</td>\n",
       "      <td>0.000000</td>\n",
       "    </tr>\n",
       "    <tr>\n",
       "      <th>75%</th>\n",
       "      <td>4.500000</td>\n",
       "      <td>0.000000</td>\n",
       "    </tr>\n",
       "    <tr>\n",
       "      <th>max</th>\n",
       "      <td>19.000000</td>\n",
       "      <td>400.000000</td>\n",
       "    </tr>\n",
       "  </tbody>\n",
       "</table>\n",
       "</div>"
      ],
      "text/plain": [
       "            Rating         Price\n",
       "count  9367.000000  10840.000000\n",
       "mean      4.193338      1.027368\n",
       "std       0.537431     15.949703\n",
       "min       1.000000      0.000000\n",
       "25%       4.000000      0.000000\n",
       "50%       4.300000      0.000000\n",
       "75%       4.500000      0.000000\n",
       "max      19.000000    400.000000"
      ]
     },
     "execution_count": 13,
     "metadata": {},
     "output_type": "execute_result"
    }
   ],
   "source": [
    "df.describe()"
   ]
  },
  {
   "cell_type": "code",
   "execution_count": 14,
   "id": "5c50634c",
   "metadata": {
    "execution": {
     "iopub.execute_input": "2024-07-13T15:50:17.820047Z",
     "iopub.status.busy": "2024-07-13T15:50:17.819495Z",
     "iopub.status.idle": "2024-07-13T15:50:17.838326Z",
     "shell.execute_reply": "2024-07-13T15:50:17.837222Z"
    },
    "papermill": {
     "duration": 0.040582,
     "end_time": "2024-07-13T15:50:17.840601",
     "exception": false,
     "start_time": "2024-07-13T15:50:17.800019",
     "status": "completed"
    },
    "tags": []
   },
   "outputs": [
    {
     "data": {
      "text/html": [
       "<div>\n",
       "<style scoped>\n",
       "    .dataframe tbody tr th:only-of-type {\n",
       "        vertical-align: middle;\n",
       "    }\n",
       "\n",
       "    .dataframe tbody tr th {\n",
       "        vertical-align: top;\n",
       "    }\n",
       "\n",
       "    .dataframe thead th {\n",
       "        text-align: right;\n",
       "    }\n",
       "</style>\n",
       "<table border=\"1\" class=\"dataframe\">\n",
       "  <thead>\n",
       "    <tr style=\"text-align: right;\">\n",
       "      <th></th>\n",
       "      <th>App</th>\n",
       "      <th>Category</th>\n",
       "      <th>Rating</th>\n",
       "      <th>Reviews</th>\n",
       "      <th>Size</th>\n",
       "      <th>Installs</th>\n",
       "      <th>Type</th>\n",
       "      <th>Price</th>\n",
       "      <th>Content Rating</th>\n",
       "      <th>Genres</th>\n",
       "      <th>Last Updated</th>\n",
       "      <th>Current Ver</th>\n",
       "      <th>Android Ver</th>\n",
       "    </tr>\n",
       "  </thead>\n",
       "  <tbody>\n",
       "    <tr>\n",
       "      <th>3334</th>\n",
       "      <td>osmino Wi-Fi: free WiFi</td>\n",
       "      <td>TOOLS</td>\n",
       "      <td>4.2</td>\n",
       "      <td>134203</td>\n",
       "      <td>4.1M</td>\n",
       "      <td>10,000,000+</td>\n",
       "      <td>Free</td>\n",
       "      <td>0.00</td>\n",
       "      <td>Everyone</td>\n",
       "      <td>Tools</td>\n",
       "      <td>August 6, 2018</td>\n",
       "      <td>6.06.14</td>\n",
       "      <td>4.4 and up</td>\n",
       "    </tr>\n",
       "    <tr>\n",
       "      <th>1193</th>\n",
       "      <td>Grubhub: Food Delivery</td>\n",
       "      <td>FOOD_AND_DRINK</td>\n",
       "      <td>4.5</td>\n",
       "      <td>155944</td>\n",
       "      <td>35M</td>\n",
       "      <td>5,000,000+</td>\n",
       "      <td>Free</td>\n",
       "      <td>0.00</td>\n",
       "      <td>Everyone</td>\n",
       "      <td>Food &amp; Drink</td>\n",
       "      <td>August 2, 2018</td>\n",
       "      <td>7.12</td>\n",
       "      <td>5.0 and up</td>\n",
       "    </tr>\n",
       "    <tr>\n",
       "      <th>647</th>\n",
       "      <td>Chat Click - Dating Search</td>\n",
       "      <td>DATING</td>\n",
       "      <td>NaN</td>\n",
       "      <td>4</td>\n",
       "      <td>3.8M</td>\n",
       "      <td>500+</td>\n",
       "      <td>Free</td>\n",
       "      <td>0.00</td>\n",
       "      <td>Mature 17+</td>\n",
       "      <td>Dating</td>\n",
       "      <td>July 11, 2018</td>\n",
       "      <td>1.0</td>\n",
       "      <td>3.0 and up</td>\n",
       "    </tr>\n",
       "    <tr>\n",
       "      <th>2259</th>\n",
       "      <td>Diabetes &amp; Diet Tracker</td>\n",
       "      <td>MEDICAL</td>\n",
       "      <td>4.6</td>\n",
       "      <td>395</td>\n",
       "      <td>19M</td>\n",
       "      <td>1,000+</td>\n",
       "      <td>Paid</td>\n",
       "      <td>9.99</td>\n",
       "      <td>Everyone</td>\n",
       "      <td>Medical</td>\n",
       "      <td>July 16, 2018</td>\n",
       "      <td>6.5.1</td>\n",
       "      <td>5.0 and up</td>\n",
       "    </tr>\n",
       "  </tbody>\n",
       "</table>\n",
       "</div>"
      ],
      "text/plain": [
       "                             App        Category  Rating Reviews  Size  \\\n",
       "3334     osmino Wi-Fi: free WiFi           TOOLS     4.2  134203  4.1M   \n",
       "1193      Grubhub: Food Delivery  FOOD_AND_DRINK     4.5  155944   35M   \n",
       "647   Chat Click - Dating Search          DATING     NaN       4  3.8M   \n",
       "2259     Diabetes & Diet Tracker         MEDICAL     4.6     395   19M   \n",
       "\n",
       "         Installs  Type  Price Content Rating        Genres    Last Updated  \\\n",
       "3334  10,000,000+  Free   0.00       Everyone         Tools  August 6, 2018   \n",
       "1193   5,000,000+  Free   0.00       Everyone  Food & Drink  August 2, 2018   \n",
       "647          500+  Free   0.00     Mature 17+        Dating   July 11, 2018   \n",
       "2259       1,000+  Paid   9.99       Everyone       Medical   July 16, 2018   \n",
       "\n",
       "     Current Ver Android Ver  \n",
       "3334     6.06.14  4.4 and up  \n",
       "1193        7.12  5.0 and up  \n",
       "647          1.0  3.0 and up  \n",
       "2259       6.5.1  5.0 and up  "
      ]
     },
     "execution_count": 14,
     "metadata": {},
     "output_type": "execute_result"
    }
   ],
   "source": [
    "df.sample(4)"
   ]
  },
  {
   "cell_type": "code",
   "execution_count": 15,
   "id": "06d4c441",
   "metadata": {
    "execution": {
     "iopub.execute_input": "2024-07-13T15:50:17.879956Z",
     "iopub.status.busy": "2024-07-13T15:50:17.878909Z",
     "iopub.status.idle": "2024-07-13T15:50:17.894416Z",
     "shell.execute_reply": "2024-07-13T15:50:17.893304Z"
    },
    "papermill": {
     "duration": 0.037707,
     "end_time": "2024-07-13T15:50:17.896895",
     "exception": false,
     "start_time": "2024-07-13T15:50:17.859188",
     "status": "completed"
    },
    "tags": []
   },
   "outputs": [
    {
     "data": {
      "text/plain": [
       "App                  0\n",
       "Category             0\n",
       "Rating            1474\n",
       "Reviews              0\n",
       "Size                 0\n",
       "Installs             0\n",
       "Type                 1\n",
       "Price                1\n",
       "Content Rating       1\n",
       "Genres               0\n",
       "Last Updated         0\n",
       "Current Ver          8\n",
       "Android Ver          3\n",
       "dtype: int64"
      ]
     },
     "execution_count": 15,
     "metadata": {},
     "output_type": "execute_result"
    }
   ],
   "source": [
    "df.isnull().sum()"
   ]
  },
  {
   "cell_type": "code",
   "execution_count": 16,
   "id": "e638e49b",
   "metadata": {
    "execution": {
     "iopub.execute_input": "2024-07-13T15:50:17.935998Z",
     "iopub.status.busy": "2024-07-13T15:50:17.935569Z",
     "iopub.status.idle": "2024-07-13T15:50:17.942007Z",
     "shell.execute_reply": "2024-07-13T15:50:17.940856Z"
    },
    "papermill": {
     "duration": 0.028823,
     "end_time": "2024-07-13T15:50:17.944231",
     "exception": false,
     "start_time": "2024-07-13T15:50:17.915408",
     "status": "completed"
    },
    "tags": []
   },
   "outputs": [],
   "source": [
    "def convert(value):\n",
    "    if isinstance (value,str):\n",
    "        if 'k' in value:\n",
    "            return float(value.replace('k',''))*1024\n",
    "        if 'M' in value:\n",
    "            return float(value.replace('M',''))*1024*1024\n",
    "        if 'Varies with device':\n",
    "            return np.nan\n",
    "        return value"
   ]
  },
  {
   "cell_type": "code",
   "execution_count": 17,
   "id": "62ad057d",
   "metadata": {
    "execution": {
     "iopub.execute_input": "2024-07-13T15:50:17.983849Z",
     "iopub.status.busy": "2024-07-13T15:50:17.982674Z",
     "iopub.status.idle": "2024-07-13T15:50:17.996768Z",
     "shell.execute_reply": "2024-07-13T15:50:17.995341Z"
    },
    "papermill": {
     "duration": 0.036906,
     "end_time": "2024-07-13T15:50:17.999550",
     "exception": false,
     "start_time": "2024-07-13T15:50:17.962644",
     "status": "completed"
    },
    "tags": []
   },
   "outputs": [],
   "source": [
    "df['Size']=df['Size'].apply(convert)"
   ]
  },
  {
   "cell_type": "code",
   "execution_count": 18,
   "id": "8ffeb244",
   "metadata": {
    "execution": {
     "iopub.execute_input": "2024-07-13T15:50:18.040975Z",
     "iopub.status.busy": "2024-07-13T15:50:18.040557Z",
     "iopub.status.idle": "2024-07-13T15:50:18.047153Z",
     "shell.execute_reply": "2024-07-13T15:50:18.045877Z"
    },
    "papermill": {
     "duration": 0.030248,
     "end_time": "2024-07-13T15:50:18.049796",
     "exception": false,
     "start_time": "2024-07-13T15:50:18.019548",
     "status": "completed"
    },
    "tags": []
   },
   "outputs": [],
   "source": [
    "df['Size']=pd.to_numeric(df['Size'],errors='coerce')"
   ]
  },
  {
   "cell_type": "code",
   "execution_count": 19,
   "id": "692167cd",
   "metadata": {
    "execution": {
     "iopub.execute_input": "2024-07-13T15:50:18.090228Z",
     "iopub.status.busy": "2024-07-13T15:50:18.089822Z",
     "iopub.status.idle": "2024-07-13T15:50:18.100732Z",
     "shell.execute_reply": "2024-07-13T15:50:18.099518Z"
    },
    "papermill": {
     "duration": 0.034362,
     "end_time": "2024-07-13T15:50:18.103217",
     "exception": false,
     "start_time": "2024-07-13T15:50:18.068855",
     "status": "completed"
    },
    "tags": []
   },
   "outputs": [],
   "source": [
    "df['Size In Mbs']=df['Size'].apply(lambda x: x/(1024 * 1024))"
   ]
  },
  {
   "cell_type": "code",
   "execution_count": 20,
   "id": "c6259da3",
   "metadata": {
    "execution": {
     "iopub.execute_input": "2024-07-13T15:50:18.142471Z",
     "iopub.status.busy": "2024-07-13T15:50:18.142076Z",
     "iopub.status.idle": "2024-07-13T15:50:18.151841Z",
     "shell.execute_reply": "2024-07-13T15:50:18.150634Z"
    },
    "papermill": {
     "duration": 0.032171,
     "end_time": "2024-07-13T15:50:18.154310",
     "exception": false,
     "start_time": "2024-07-13T15:50:18.122139",
     "status": "completed"
    },
    "tags": []
   },
   "outputs": [],
   "source": [
    "df['Size in Kbs']=df['Size'].apply(lambda x: x/1024)"
   ]
  },
  {
   "cell_type": "code",
   "execution_count": 21,
   "id": "47a26b3d",
   "metadata": {
    "execution": {
     "iopub.execute_input": "2024-07-13T15:50:18.194435Z",
     "iopub.status.busy": "2024-07-13T15:50:18.194038Z",
     "iopub.status.idle": "2024-07-13T15:50:18.215135Z",
     "shell.execute_reply": "2024-07-13T15:50:18.213991Z"
    },
    "papermill": {
     "duration": 0.044451,
     "end_time": "2024-07-13T15:50:18.217809",
     "exception": false,
     "start_time": "2024-07-13T15:50:18.173358",
     "status": "completed"
    },
    "tags": []
   },
   "outputs": [
    {
     "data": {
      "text/html": [
       "<div>\n",
       "<style scoped>\n",
       "    .dataframe tbody tr th:only-of-type {\n",
       "        vertical-align: middle;\n",
       "    }\n",
       "\n",
       "    .dataframe tbody tr th {\n",
       "        vertical-align: top;\n",
       "    }\n",
       "\n",
       "    .dataframe thead th {\n",
       "        text-align: right;\n",
       "    }\n",
       "</style>\n",
       "<table border=\"1\" class=\"dataframe\">\n",
       "  <thead>\n",
       "    <tr style=\"text-align: right;\">\n",
       "      <th></th>\n",
       "      <th>App</th>\n",
       "      <th>Category</th>\n",
       "      <th>Rating</th>\n",
       "      <th>Reviews</th>\n",
       "      <th>Size</th>\n",
       "      <th>Installs</th>\n",
       "      <th>Type</th>\n",
       "      <th>Price</th>\n",
       "      <th>Content Rating</th>\n",
       "      <th>Genres</th>\n",
       "      <th>Last Updated</th>\n",
       "      <th>Current Ver</th>\n",
       "      <th>Android Ver</th>\n",
       "      <th>Size In Mbs</th>\n",
       "      <th>Size in Kbs</th>\n",
       "    </tr>\n",
       "  </thead>\n",
       "  <tbody>\n",
       "    <tr>\n",
       "      <th>0</th>\n",
       "      <td>Photo Editor &amp; Candy Camera &amp; Grid &amp; ScrapBook</td>\n",
       "      <td>ART_AND_DESIGN</td>\n",
       "      <td>4.1</td>\n",
       "      <td>159</td>\n",
       "      <td>19922944.0</td>\n",
       "      <td>10,000+</td>\n",
       "      <td>Free</td>\n",
       "      <td>0.0</td>\n",
       "      <td>Everyone</td>\n",
       "      <td>Art &amp; Design</td>\n",
       "      <td>January 7, 2018</td>\n",
       "      <td>1.0.0</td>\n",
       "      <td>4.0.3 and up</td>\n",
       "      <td>19.0</td>\n",
       "      <td>19456.0</td>\n",
       "    </tr>\n",
       "    <tr>\n",
       "      <th>1</th>\n",
       "      <td>Coloring book moana</td>\n",
       "      <td>ART_AND_DESIGN</td>\n",
       "      <td>3.9</td>\n",
       "      <td>967</td>\n",
       "      <td>14680064.0</td>\n",
       "      <td>500,000+</td>\n",
       "      <td>Free</td>\n",
       "      <td>0.0</td>\n",
       "      <td>Everyone</td>\n",
       "      <td>Art &amp; Design;Pretend Play</td>\n",
       "      <td>January 15, 2018</td>\n",
       "      <td>2.0.0</td>\n",
       "      <td>4.0.3 and up</td>\n",
       "      <td>14.0</td>\n",
       "      <td>14336.0</td>\n",
       "    </tr>\n",
       "    <tr>\n",
       "      <th>2</th>\n",
       "      <td>U Launcher Lite – FREE Live Cool Themes, Hide ...</td>\n",
       "      <td>ART_AND_DESIGN</td>\n",
       "      <td>4.7</td>\n",
       "      <td>87510</td>\n",
       "      <td>9122611.2</td>\n",
       "      <td>5,000,000+</td>\n",
       "      <td>Free</td>\n",
       "      <td>0.0</td>\n",
       "      <td>Everyone</td>\n",
       "      <td>Art &amp; Design</td>\n",
       "      <td>August 1, 2018</td>\n",
       "      <td>1.2.4</td>\n",
       "      <td>4.0.3 and up</td>\n",
       "      <td>8.7</td>\n",
       "      <td>8908.8</td>\n",
       "    </tr>\n",
       "    <tr>\n",
       "      <th>3</th>\n",
       "      <td>Sketch - Draw &amp; Paint</td>\n",
       "      <td>ART_AND_DESIGN</td>\n",
       "      <td>4.5</td>\n",
       "      <td>215644</td>\n",
       "      <td>26214400.0</td>\n",
       "      <td>50,000,000+</td>\n",
       "      <td>Free</td>\n",
       "      <td>0.0</td>\n",
       "      <td>Teen</td>\n",
       "      <td>Art &amp; Design</td>\n",
       "      <td>June 8, 2018</td>\n",
       "      <td>Varies with device</td>\n",
       "      <td>4.2 and up</td>\n",
       "      <td>25.0</td>\n",
       "      <td>25600.0</td>\n",
       "    </tr>\n",
       "    <tr>\n",
       "      <th>4</th>\n",
       "      <td>Pixel Draw - Number Art Coloring Book</td>\n",
       "      <td>ART_AND_DESIGN</td>\n",
       "      <td>4.3</td>\n",
       "      <td>967</td>\n",
       "      <td>2936012.8</td>\n",
       "      <td>100,000+</td>\n",
       "      <td>Free</td>\n",
       "      <td>0.0</td>\n",
       "      <td>Everyone</td>\n",
       "      <td>Art &amp; Design;Creativity</td>\n",
       "      <td>June 20, 2018</td>\n",
       "      <td>1.1</td>\n",
       "      <td>4.4 and up</td>\n",
       "      <td>2.8</td>\n",
       "      <td>2867.2</td>\n",
       "    </tr>\n",
       "  </tbody>\n",
       "</table>\n",
       "</div>"
      ],
      "text/plain": [
       "                                                 App        Category  Rating  \\\n",
       "0     Photo Editor & Candy Camera & Grid & ScrapBook  ART_AND_DESIGN     4.1   \n",
       "1                                Coloring book moana  ART_AND_DESIGN     3.9   \n",
       "2  U Launcher Lite – FREE Live Cool Themes, Hide ...  ART_AND_DESIGN     4.7   \n",
       "3                              Sketch - Draw & Paint  ART_AND_DESIGN     4.5   \n",
       "4              Pixel Draw - Number Art Coloring Book  ART_AND_DESIGN     4.3   \n",
       "\n",
       "  Reviews        Size     Installs  Type  Price Content Rating  \\\n",
       "0     159  19922944.0      10,000+  Free    0.0       Everyone   \n",
       "1     967  14680064.0     500,000+  Free    0.0       Everyone   \n",
       "2   87510   9122611.2   5,000,000+  Free    0.0       Everyone   \n",
       "3  215644  26214400.0  50,000,000+  Free    0.0           Teen   \n",
       "4     967   2936012.8     100,000+  Free    0.0       Everyone   \n",
       "\n",
       "                      Genres      Last Updated         Current Ver  \\\n",
       "0               Art & Design   January 7, 2018               1.0.0   \n",
       "1  Art & Design;Pretend Play  January 15, 2018               2.0.0   \n",
       "2               Art & Design    August 1, 2018               1.2.4   \n",
       "3               Art & Design      June 8, 2018  Varies with device   \n",
       "4    Art & Design;Creativity     June 20, 2018                 1.1   \n",
       "\n",
       "    Android Ver  Size In Mbs  Size in Kbs  \n",
       "0  4.0.3 and up         19.0      19456.0  \n",
       "1  4.0.3 and up         14.0      14336.0  \n",
       "2  4.0.3 and up          8.7       8908.8  \n",
       "3    4.2 and up         25.0      25600.0  \n",
       "4    4.4 and up          2.8       2867.2  "
      ]
     },
     "execution_count": 21,
     "metadata": {},
     "output_type": "execute_result"
    }
   ],
   "source": [
    "df.head()"
   ]
  },
  {
   "cell_type": "code",
   "execution_count": 22,
   "id": "313572e8",
   "metadata": {
    "execution": {
     "iopub.execute_input": "2024-07-13T15:50:18.259743Z",
     "iopub.status.busy": "2024-07-13T15:50:18.258808Z",
     "iopub.status.idle": "2024-07-13T15:50:18.287267Z",
     "shell.execute_reply": "2024-07-13T15:50:18.285844Z"
    },
    "papermill": {
     "duration": 0.051675,
     "end_time": "2024-07-13T15:50:18.289765",
     "exception": false,
     "start_time": "2024-07-13T15:50:18.238090",
     "status": "completed"
    },
    "tags": []
   },
   "outputs": [
    {
     "data": {
      "text/html": [
       "<div>\n",
       "<style scoped>\n",
       "    .dataframe tbody tr th:only-of-type {\n",
       "        vertical-align: middle;\n",
       "    }\n",
       "\n",
       "    .dataframe tbody tr th {\n",
       "        vertical-align: top;\n",
       "    }\n",
       "\n",
       "    .dataframe thead th {\n",
       "        text-align: right;\n",
       "    }\n",
       "</style>\n",
       "<table border=\"1\" class=\"dataframe\">\n",
       "  <thead>\n",
       "    <tr style=\"text-align: right;\">\n",
       "      <th></th>\n",
       "      <th>Rating</th>\n",
       "      <th>Size</th>\n",
       "      <th>Price</th>\n",
       "      <th>Size In Mbs</th>\n",
       "      <th>Size in Kbs</th>\n",
       "    </tr>\n",
       "  </thead>\n",
       "  <tbody>\n",
       "    <tr>\n",
       "      <th>count</th>\n",
       "      <td>9367.000000</td>\n",
       "      <td>9.145000e+03</td>\n",
       "      <td>10840.000000</td>\n",
       "      <td>9145.000000</td>\n",
       "      <td>9145.000000</td>\n",
       "    </tr>\n",
       "    <tr>\n",
       "      <th>mean</th>\n",
       "      <td>4.193338</td>\n",
       "      <td>2.256133e+07</td>\n",
       "      <td>1.027368</td>\n",
       "      <td>21.516165</td>\n",
       "      <td>22032.553406</td>\n",
       "    </tr>\n",
       "    <tr>\n",
       "      <th>std</th>\n",
       "      <td>0.537431</td>\n",
       "      <td>2.368637e+07</td>\n",
       "      <td>15.949703</td>\n",
       "      <td>22.589084</td>\n",
       "      <td>23131.222364</td>\n",
       "    </tr>\n",
       "    <tr>\n",
       "      <th>min</th>\n",
       "      <td>1.000000</td>\n",
       "      <td>8.704000e+03</td>\n",
       "      <td>0.000000</td>\n",
       "      <td>0.008301</td>\n",
       "      <td>8.500000</td>\n",
       "    </tr>\n",
       "    <tr>\n",
       "      <th>25%</th>\n",
       "      <td>4.000000</td>\n",
       "      <td>5.138022e+06</td>\n",
       "      <td>0.000000</td>\n",
       "      <td>4.900000</td>\n",
       "      <td>5017.600000</td>\n",
       "    </tr>\n",
       "    <tr>\n",
       "      <th>50%</th>\n",
       "      <td>4.300000</td>\n",
       "      <td>1.363149e+07</td>\n",
       "      <td>0.000000</td>\n",
       "      <td>13.000000</td>\n",
       "      <td>13312.000000</td>\n",
       "    </tr>\n",
       "    <tr>\n",
       "      <th>75%</th>\n",
       "      <td>4.500000</td>\n",
       "      <td>3.145728e+07</td>\n",
       "      <td>0.000000</td>\n",
       "      <td>30.000000</td>\n",
       "      <td>30720.000000</td>\n",
       "    </tr>\n",
       "    <tr>\n",
       "      <th>max</th>\n",
       "      <td>19.000000</td>\n",
       "      <td>1.048576e+08</td>\n",
       "      <td>400.000000</td>\n",
       "      <td>100.000000</td>\n",
       "      <td>102400.000000</td>\n",
       "    </tr>\n",
       "  </tbody>\n",
       "</table>\n",
       "</div>"
      ],
      "text/plain": [
       "            Rating          Size         Price  Size In Mbs    Size in Kbs\n",
       "count  9367.000000  9.145000e+03  10840.000000  9145.000000    9145.000000\n",
       "mean      4.193338  2.256133e+07      1.027368    21.516165   22032.553406\n",
       "std       0.537431  2.368637e+07     15.949703    22.589084   23131.222364\n",
       "min       1.000000  8.704000e+03      0.000000     0.008301       8.500000\n",
       "25%       4.000000  5.138022e+06      0.000000     4.900000    5017.600000\n",
       "50%       4.300000  1.363149e+07      0.000000    13.000000   13312.000000\n",
       "75%       4.500000  3.145728e+07      0.000000    30.000000   30720.000000\n",
       "max      19.000000  1.048576e+08    400.000000   100.000000  102400.000000"
      ]
     },
     "execution_count": 22,
     "metadata": {},
     "output_type": "execute_result"
    }
   ],
   "source": [
    "df.describe()"
   ]
  },
  {
   "cell_type": "code",
   "execution_count": 23,
   "id": "19eb75d4",
   "metadata": {
    "execution": {
     "iopub.execute_input": "2024-07-13T15:50:18.331059Z",
     "iopub.status.busy": "2024-07-13T15:50:18.329646Z",
     "iopub.status.idle": "2024-07-13T15:50:18.341729Z",
     "shell.execute_reply": "2024-07-13T15:50:18.340581Z"
    },
    "papermill": {
     "duration": 0.035417,
     "end_time": "2024-07-13T15:50:18.344430",
     "exception": false,
     "start_time": "2024-07-13T15:50:18.309013",
     "status": "completed"
    },
    "tags": []
   },
   "outputs": [],
   "source": [
    "df['Installs']=df['Installs'].apply(lambda x:x.replace(\"+\",'') if '+' in str(x) else x)"
   ]
  },
  {
   "cell_type": "code",
   "execution_count": 24,
   "id": "30f9896b",
   "metadata": {
    "execution": {
     "iopub.execute_input": "2024-07-13T15:50:18.386231Z",
     "iopub.status.busy": "2024-07-13T15:50:18.385819Z",
     "iopub.status.idle": "2024-07-13T15:50:18.397464Z",
     "shell.execute_reply": "2024-07-13T15:50:18.396278Z"
    },
    "papermill": {
     "duration": 0.035382,
     "end_time": "2024-07-13T15:50:18.399961",
     "exception": false,
     "start_time": "2024-07-13T15:50:18.364579",
     "status": "completed"
    },
    "tags": []
   },
   "outputs": [],
   "source": [
    "df['Installs']=df['Installs'].apply(lambda x: x.replace(',','') if ',' in str(x) else x)"
   ]
  },
  {
   "cell_type": "code",
   "execution_count": 25,
   "id": "b7097751",
   "metadata": {
    "execution": {
     "iopub.execute_input": "2024-07-13T15:50:18.440020Z",
     "iopub.status.busy": "2024-07-13T15:50:18.439607Z",
     "iopub.status.idle": "2024-07-13T15:50:18.452527Z",
     "shell.execute_reply": "2024-07-13T15:50:18.451295Z"
    },
    "papermill": {
     "duration": 0.035854,
     "end_time": "2024-07-13T15:50:18.455000",
     "exception": false,
     "start_time": "2024-07-13T15:50:18.419146",
     "status": "completed"
    },
    "tags": []
   },
   "outputs": [],
   "source": [
    "df['Installs']=pd.to_numeric(df['Installs'],errors='coerce')"
   ]
  },
  {
   "cell_type": "code",
   "execution_count": 26,
   "id": "9c9d338a",
   "metadata": {
    "execution": {
     "iopub.execute_input": "2024-07-13T15:50:18.494762Z",
     "iopub.status.busy": "2024-07-13T15:50:18.494399Z",
     "iopub.status.idle": "2024-07-13T15:50:18.509367Z",
     "shell.execute_reply": "2024-07-13T15:50:18.508234Z"
    },
    "papermill": {
     "duration": 0.037947,
     "end_time": "2024-07-13T15:50:18.512024",
     "exception": false,
     "start_time": "2024-07-13T15:50:18.474077",
     "status": "completed"
    },
    "tags": []
   },
   "outputs": [
    {
     "data": {
      "text/plain": [
       "App                  0\n",
       "Category             0\n",
       "Rating            1474\n",
       "Reviews              0\n",
       "Size              1696\n",
       "Installs             1\n",
       "Type                 1\n",
       "Price                1\n",
       "Content Rating       1\n",
       "Genres               0\n",
       "Last Updated         0\n",
       "Current Ver          8\n",
       "Android Ver          3\n",
       "Size In Mbs       1696\n",
       "Size in Kbs       1696\n",
       "dtype: int64"
      ]
     },
     "execution_count": 26,
     "metadata": {},
     "output_type": "execute_result"
    }
   ],
   "source": [
    "df.isnull().sum()"
   ]
  },
  {
   "cell_type": "code",
   "execution_count": 27,
   "id": "481841dc",
   "metadata": {
    "execution": {
     "iopub.execute_input": "2024-07-13T15:50:18.552473Z",
     "iopub.status.busy": "2024-07-13T15:50:18.551703Z",
     "iopub.status.idle": "2024-07-13T15:50:18.571508Z",
     "shell.execute_reply": "2024-07-13T15:50:18.570236Z"
    },
    "papermill": {
     "duration": 0.042657,
     "end_time": "2024-07-13T15:50:18.573834",
     "exception": false,
     "start_time": "2024-07-13T15:50:18.531177",
     "status": "completed"
    },
    "tags": []
   },
   "outputs": [
    {
     "data": {
      "text/html": [
       "<div>\n",
       "<style scoped>\n",
       "    .dataframe tbody tr th:only-of-type {\n",
       "        vertical-align: middle;\n",
       "    }\n",
       "\n",
       "    .dataframe tbody tr th {\n",
       "        vertical-align: top;\n",
       "    }\n",
       "\n",
       "    .dataframe thead th {\n",
       "        text-align: right;\n",
       "    }\n",
       "</style>\n",
       "<table border=\"1\" class=\"dataframe\">\n",
       "  <thead>\n",
       "    <tr style=\"text-align: right;\">\n",
       "      <th></th>\n",
       "      <th>App</th>\n",
       "      <th>Category</th>\n",
       "      <th>Rating</th>\n",
       "      <th>Reviews</th>\n",
       "      <th>Size</th>\n",
       "      <th>Installs</th>\n",
       "      <th>Type</th>\n",
       "      <th>Price</th>\n",
       "      <th>Content Rating</th>\n",
       "      <th>Genres</th>\n",
       "      <th>Last Updated</th>\n",
       "      <th>Current Ver</th>\n",
       "      <th>Android Ver</th>\n",
       "      <th>Size In Mbs</th>\n",
       "      <th>Size in Kbs</th>\n",
       "    </tr>\n",
       "  </thead>\n",
       "  <tbody>\n",
       "    <tr>\n",
       "      <th>9832</th>\n",
       "      <td>Lettre et demande d'emploi</td>\n",
       "      <td>FAMILY</td>\n",
       "      <td>4.6</td>\n",
       "      <td>302</td>\n",
       "      <td>10380902.4</td>\n",
       "      <td>100000.0</td>\n",
       "      <td>Free</td>\n",
       "      <td>0.0</td>\n",
       "      <td>Everyone</td>\n",
       "      <td>Education</td>\n",
       "      <td>January 2, 2018</td>\n",
       "      <td>1.0</td>\n",
       "      <td>4.0 and up</td>\n",
       "      <td>9.9</td>\n",
       "      <td>10137.6</td>\n",
       "    </tr>\n",
       "  </tbody>\n",
       "</table>\n",
       "</div>"
      ],
      "text/plain": [
       "                             App Category  Rating Reviews        Size  \\\n",
       "9832  Lettre et demande d'emploi   FAMILY     4.6     302  10380902.4   \n",
       "\n",
       "      Installs  Type  Price Content Rating     Genres     Last Updated  \\\n",
       "9832  100000.0  Free    0.0       Everyone  Education  January 2, 2018   \n",
       "\n",
       "     Current Ver Android Ver  Size In Mbs  Size in Kbs  \n",
       "9832         1.0  4.0 and up          9.9      10137.6  "
      ]
     },
     "execution_count": 27,
     "metadata": {},
     "output_type": "execute_result"
    }
   ],
   "source": [
    "df.sample()"
   ]
  },
  {
   "cell_type": "code",
   "execution_count": 28,
   "id": "6ab20a35",
   "metadata": {
    "execution": {
     "iopub.execute_input": "2024-07-13T15:50:18.614540Z",
     "iopub.status.busy": "2024-07-13T15:50:18.614094Z",
     "iopub.status.idle": "2024-07-13T15:50:18.625648Z",
     "shell.execute_reply": "2024-07-13T15:50:18.624294Z"
    },
    "papermill": {
     "duration": 0.035187,
     "end_time": "2024-07-13T15:50:18.628285",
     "exception": false,
     "start_time": "2024-07-13T15:50:18.593098",
     "status": "completed"
    },
    "tags": []
   },
   "outputs": [
    {
     "data": {
      "text/plain": [
       "Type\n",
       "0           1\n",
       "Free    10039\n",
       "Paid      800\n",
       "Name: Installs, dtype: int64"
      ]
     },
     "execution_count": 28,
     "metadata": {},
     "output_type": "execute_result"
    }
   ],
   "source": [
    "df.groupby('Type')['Installs'].size()"
   ]
  },
  {
   "cell_type": "code",
   "execution_count": 29,
   "id": "f5db1295",
   "metadata": {
    "execution": {
     "iopub.execute_input": "2024-07-13T15:50:18.670605Z",
     "iopub.status.busy": "2024-07-13T15:50:18.669533Z",
     "iopub.status.idle": "2024-07-13T15:50:18.680544Z",
     "shell.execute_reply": "2024-07-13T15:50:18.679359Z"
    },
    "papermill": {
     "duration": 0.034396,
     "end_time": "2024-07-13T15:50:18.683082",
     "exception": false,
     "start_time": "2024-07-13T15:50:18.648686",
     "status": "completed"
    },
    "tags": []
   },
   "outputs": [],
   "source": [
    "df.drop(df[df['Type']=='0'].index,axis=0,inplace=True)"
   ]
  },
  {
   "cell_type": "code",
   "execution_count": 30,
   "id": "94148194",
   "metadata": {
    "execution": {
     "iopub.execute_input": "2024-07-13T15:50:18.726725Z",
     "iopub.status.busy": "2024-07-13T15:50:18.726360Z",
     "iopub.status.idle": "2024-07-13T15:50:18.737168Z",
     "shell.execute_reply": "2024-07-13T15:50:18.735909Z"
    },
    "papermill": {
     "duration": 0.036362,
     "end_time": "2024-07-13T15:50:18.739577",
     "exception": false,
     "start_time": "2024-07-13T15:50:18.703215",
     "status": "completed"
    },
    "tags": []
   },
   "outputs": [
    {
     "data": {
      "text/plain": [
       "Type\n",
       "Free    10039\n",
       "Paid      800\n",
       "Name: Installs, dtype: int64"
      ]
     },
     "execution_count": 30,
     "metadata": {},
     "output_type": "execute_result"
    }
   ],
   "source": [
    "df.groupby('Type')['Installs'].size()"
   ]
  },
  {
   "cell_type": "code",
   "execution_count": 31,
   "id": "142fcaa8",
   "metadata": {
    "execution": {
     "iopub.execute_input": "2024-07-13T15:50:18.781681Z",
     "iopub.status.busy": "2024-07-13T15:50:18.781293Z",
     "iopub.status.idle": "2024-07-13T15:50:18.796568Z",
     "shell.execute_reply": "2024-07-13T15:50:18.795620Z"
    },
    "papermill": {
     "duration": 0.039026,
     "end_time": "2024-07-13T15:50:18.798991",
     "exception": false,
     "start_time": "2024-07-13T15:50:18.759965",
     "status": "completed"
    },
    "tags": []
   },
   "outputs": [
    {
     "data": {
      "text/plain": [
       "Size              1695\n",
       "Size In Mbs       1695\n",
       "Size in Kbs       1695\n",
       "Rating            1474\n",
       "Current Ver          8\n",
       "Android Ver          2\n",
       "Type                 1\n",
       "App                  0\n",
       "Category             0\n",
       "Reviews              0\n",
       "Installs             0\n",
       "Price                0\n",
       "Content Rating       0\n",
       "Genres               0\n",
       "Last Updated         0\n",
       "dtype: int64"
      ]
     },
     "execution_count": 31,
     "metadata": {},
     "output_type": "execute_result"
    }
   ],
   "source": [
    "df.isnull().sum().sort_values(ascending=False)"
   ]
  },
  {
   "cell_type": "code",
   "execution_count": 32,
   "id": "3a2da9e4",
   "metadata": {
    "execution": {
     "iopub.execute_input": "2024-07-13T15:50:18.839953Z",
     "iopub.status.busy": "2024-07-13T15:50:18.839555Z",
     "iopub.status.idle": "2024-07-13T15:50:18.856483Z",
     "shell.execute_reply": "2024-07-13T15:50:18.855275Z"
    },
    "papermill": {
     "duration": 0.040548,
     "end_time": "2024-07-13T15:50:18.859058",
     "exception": false,
     "start_time": "2024-07-13T15:50:18.818510",
     "status": "completed"
    },
    "tags": []
   },
   "outputs": [
    {
     "data": {
      "text/plain": [
       "Size              15.636531\n",
       "Size In Mbs       15.636531\n",
       "Size in Kbs       15.636531\n",
       "Rating            13.597786\n",
       "Current Ver        0.073801\n",
       "Android Ver        0.018450\n",
       "Type               0.009225\n",
       "App                0.000000\n",
       "Category           0.000000\n",
       "Reviews            0.000000\n",
       "Installs           0.000000\n",
       "Price              0.000000\n",
       "Content Rating     0.000000\n",
       "Genres             0.000000\n",
       "Last Updated       0.000000\n",
       "dtype: float64"
      ]
     },
     "execution_count": 32,
     "metadata": {},
     "output_type": "execute_result"
    }
   ],
   "source": [
    "a=df.isnull().sum()/len(df)*100\n",
    "a.sort_values(ascending=False)"
   ]
  },
  {
   "cell_type": "code",
   "execution_count": 33,
   "id": "b48bf019",
   "metadata": {
    "execution": {
     "iopub.execute_input": "2024-07-13T15:50:18.900442Z",
     "iopub.status.busy": "2024-07-13T15:50:18.900079Z",
     "iopub.status.idle": "2024-07-13T15:50:19.731082Z",
     "shell.execute_reply": "2024-07-13T15:50:19.729856Z"
    },
    "papermill": {
     "duration": 0.854957,
     "end_time": "2024-07-13T15:50:19.733871",
     "exception": false,
     "start_time": "2024-07-13T15:50:18.878914",
     "status": "completed"
    },
    "tags": []
   },
   "outputs": [
    {
     "data": {
      "image/png": "[encoded data removed]",
      "text/plain": [
       "<Figure size 1000x600 with 2 Axes>"
      ]
     },
     "metadata": {},
     "output_type": "display_data"
    }
   ],
   "source": [
    "plt.figure(figsize=(10,6))\n",
    "sns.heatmap(df.isnull())\n",
    "plt.show()"
   ]
  },
  {
   "cell_type": "code",
   "execution_count": 34,
   "id": "6f27138b",
   "metadata": {
    "execution": {
     "iopub.execute_input": "2024-07-13T15:50:19.779944Z",
     "iopub.status.busy": "2024-07-13T15:50:19.779532Z",
     "iopub.status.idle": "2024-07-13T15:50:20.178704Z",
     "shell.execute_reply": "2024-07-13T15:50:20.177551Z"
    },
    "papermill": {
     "duration": 0.425629,
     "end_time": "2024-07-13T15:50:20.181343",
     "exception": false,
     "start_time": "2024-07-13T15:50:19.755714",
     "status": "completed"
    },
    "tags": []
   },
   "outputs": [
    {
     "data": {
      "image/png": "[encoded data removed]",
      "text/plain": [
       "<Figure size 1600x600 with 1 Axes>"
      ]
     },
     "metadata": {},
     "output_type": "display_data"
    }
   ],
   "source": [
    "# make figure size\n",
    "plt.figure(figsize=(16, 6))\n",
    "# plot the null values by their percentage in each column\n",
    "missing_percentage = df.isnull().sum()/len(df)*100\n",
    "missing_percentage.plot(kind='bar')\n",
    "# add the labels\n",
    "plt.xlabel('Columns')\n",
    "plt.ylabel('Percentage')\n",
    "plt.title('Percentage of Missing Values in each Column')\n",
    "plt.show()"
   ]
  },
  {
   "cell_type": "code",
   "execution_count": 35,
   "id": "aa45e696",
   "metadata": {
    "execution": {
     "iopub.execute_input": "2024-07-13T15:50:20.227395Z",
     "iopub.status.busy": "2024-07-13T15:50:20.227025Z",
     "iopub.status.idle": "2024-07-13T15:50:20.485250Z",
     "shell.execute_reply": "2024-07-13T15:50:20.483972Z"
    },
    "papermill": {
     "duration": 0.284356,
     "end_time": "2024-07-13T15:50:20.487510",
     "exception": false,
     "start_time": "2024-07-13T15:50:20.203154",
     "status": "completed"
    },
    "tags": []
   },
   "outputs": [
    {
     "data": {
      "image/png": "[encoded data removed]",
      "text/plain": [
       "<Figure size 640x480 with 1 Axes>"
      ]
     },
     "metadata": {},
     "output_type": "display_data"
    }
   ],
   "source": [
    "missing_percentage[missing_percentage <1].plot(kind='bar')\n",
    "plt.show()"
   ]
  },
  {
   "cell_type": "code",
   "execution_count": 36,
   "id": "8b8defa1",
   "metadata": {
    "execution": {
     "iopub.execute_input": "2024-07-13T15:50:20.534805Z",
     "iopub.status.busy": "2024-07-13T15:50:20.533761Z",
     "iopub.status.idle": "2024-07-13T15:50:20.557288Z",
     "shell.execute_reply": "2024-07-13T15:50:20.556115Z"
    },
    "papermill": {
     "duration": 0.049616,
     "end_time": "2024-07-13T15:50:20.559686",
     "exception": false,
     "start_time": "2024-07-13T15:50:20.510070",
     "status": "completed"
    },
    "tags": []
   },
   "outputs": [
    {
     "data": {
      "text/html": [
       "<div>\n",
       "<style scoped>\n",
       "    .dataframe tbody tr th:only-of-type {\n",
       "        vertical-align: middle;\n",
       "    }\n",
       "\n",
       "    .dataframe tbody tr th {\n",
       "        vertical-align: top;\n",
       "    }\n",
       "\n",
       "    .dataframe thead th {\n",
       "        text-align: right;\n",
       "    }\n",
       "</style>\n",
       "<table border=\"1\" class=\"dataframe\">\n",
       "  <thead>\n",
       "    <tr style=\"text-align: right;\">\n",
       "      <th></th>\n",
       "      <th>App</th>\n",
       "      <th>Category</th>\n",
       "      <th>Rating</th>\n",
       "      <th>Reviews</th>\n",
       "      <th>Size</th>\n",
       "      <th>Installs</th>\n",
       "      <th>Type</th>\n",
       "      <th>Price</th>\n",
       "      <th>Content Rating</th>\n",
       "      <th>Genres</th>\n",
       "      <th>Last Updated</th>\n",
       "      <th>Current Ver</th>\n",
       "      <th>Android Ver</th>\n",
       "      <th>Size In Mbs</th>\n",
       "      <th>Size in Kbs</th>\n",
       "    </tr>\n",
       "  </thead>\n",
       "  <tbody>\n",
       "    <tr>\n",
       "      <th>0</th>\n",
       "      <td>Photo Editor &amp; Candy Camera &amp; Grid &amp; ScrapBook</td>\n",
       "      <td>ART_AND_DESIGN</td>\n",
       "      <td>4.1</td>\n",
       "      <td>159</td>\n",
       "      <td>19922944.0</td>\n",
       "      <td>10000.0</td>\n",
       "      <td>Free</td>\n",
       "      <td>0.0</td>\n",
       "      <td>Everyone</td>\n",
       "      <td>Art &amp; Design</td>\n",
       "      <td>January 7, 2018</td>\n",
       "      <td>1.0.0</td>\n",
       "      <td>4.0.3 and up</td>\n",
       "      <td>19.0</td>\n",
       "      <td>19456.0</td>\n",
       "    </tr>\n",
       "    <tr>\n",
       "      <th>1</th>\n",
       "      <td>Coloring book moana</td>\n",
       "      <td>ART_AND_DESIGN</td>\n",
       "      <td>3.9</td>\n",
       "      <td>967</td>\n",
       "      <td>14680064.0</td>\n",
       "      <td>500000.0</td>\n",
       "      <td>Free</td>\n",
       "      <td>0.0</td>\n",
       "      <td>Everyone</td>\n",
       "      <td>Art &amp; Design;Pretend Play</td>\n",
       "      <td>January 15, 2018</td>\n",
       "      <td>2.0.0</td>\n",
       "      <td>4.0.3 and up</td>\n",
       "      <td>14.0</td>\n",
       "      <td>14336.0</td>\n",
       "    </tr>\n",
       "    <tr>\n",
       "      <th>2</th>\n",
       "      <td>U Launcher Lite – FREE Live Cool Themes, Hide ...</td>\n",
       "      <td>ART_AND_DESIGN</td>\n",
       "      <td>4.7</td>\n",
       "      <td>87510</td>\n",
       "      <td>9122611.2</td>\n",
       "      <td>5000000.0</td>\n",
       "      <td>Free</td>\n",
       "      <td>0.0</td>\n",
       "      <td>Everyone</td>\n",
       "      <td>Art &amp; Design</td>\n",
       "      <td>August 1, 2018</td>\n",
       "      <td>1.2.4</td>\n",
       "      <td>4.0.3 and up</td>\n",
       "      <td>8.7</td>\n",
       "      <td>8908.8</td>\n",
       "    </tr>\n",
       "    <tr>\n",
       "      <th>3</th>\n",
       "      <td>Sketch - Draw &amp; Paint</td>\n",
       "      <td>ART_AND_DESIGN</td>\n",
       "      <td>4.5</td>\n",
       "      <td>215644</td>\n",
       "      <td>26214400.0</td>\n",
       "      <td>50000000.0</td>\n",
       "      <td>Free</td>\n",
       "      <td>0.0</td>\n",
       "      <td>Teen</td>\n",
       "      <td>Art &amp; Design</td>\n",
       "      <td>June 8, 2018</td>\n",
       "      <td>Varies with device</td>\n",
       "      <td>4.2 and up</td>\n",
       "      <td>25.0</td>\n",
       "      <td>25600.0</td>\n",
       "    </tr>\n",
       "    <tr>\n",
       "      <th>4</th>\n",
       "      <td>Pixel Draw - Number Art Coloring Book</td>\n",
       "      <td>ART_AND_DESIGN</td>\n",
       "      <td>4.3</td>\n",
       "      <td>967</td>\n",
       "      <td>2936012.8</td>\n",
       "      <td>100000.0</td>\n",
       "      <td>Free</td>\n",
       "      <td>0.0</td>\n",
       "      <td>Everyone</td>\n",
       "      <td>Art &amp; Design;Creativity</td>\n",
       "      <td>June 20, 2018</td>\n",
       "      <td>1.1</td>\n",
       "      <td>4.4 and up</td>\n",
       "      <td>2.8</td>\n",
       "      <td>2867.2</td>\n",
       "    </tr>\n",
       "  </tbody>\n",
       "</table>\n",
       "</div>"
      ],
      "text/plain": [
       "                                                 App        Category  Rating  \\\n",
       "0     Photo Editor & Candy Camera & Grid & ScrapBook  ART_AND_DESIGN     4.1   \n",
       "1                                Coloring book moana  ART_AND_DESIGN     3.9   \n",
       "2  U Launcher Lite – FREE Live Cool Themes, Hide ...  ART_AND_DESIGN     4.7   \n",
       "3                              Sketch - Draw & Paint  ART_AND_DESIGN     4.5   \n",
       "4              Pixel Draw - Number Art Coloring Book  ART_AND_DESIGN     4.3   \n",
       "\n",
       "  Reviews        Size    Installs  Type  Price Content Rating  \\\n",
       "0     159  19922944.0     10000.0  Free    0.0       Everyone   \n",
       "1     967  14680064.0    500000.0  Free    0.0       Everyone   \n",
       "2   87510   9122611.2   5000000.0  Free    0.0       Everyone   \n",
       "3  215644  26214400.0  50000000.0  Free    0.0           Teen   \n",
       "4     967   2936012.8    100000.0  Free    0.0       Everyone   \n",
       "\n",
       "                      Genres      Last Updated         Current Ver  \\\n",
       "0               Art & Design   January 7, 2018               1.0.0   \n",
       "1  Art & Design;Pretend Play  January 15, 2018               2.0.0   \n",
       "2               Art & Design    August 1, 2018               1.2.4   \n",
       "3               Art & Design      June 8, 2018  Varies with device   \n",
       "4    Art & Design;Creativity     June 20, 2018                 1.1   \n",
       "\n",
       "    Android Ver  Size In Mbs  Size in Kbs  \n",
       "0  4.0.3 and up         19.0      19456.0  \n",
       "1  4.0.3 and up         14.0      14336.0  \n",
       "2  4.0.3 and up          8.7       8908.8  \n",
       "3    4.2 and up         25.0      25600.0  \n",
       "4    4.4 and up          2.8       2867.2  "
      ]
     },
     "execution_count": 36,
     "metadata": {},
     "output_type": "execute_result"
    }
   ],
   "source": [
    "df.head()"
   ]
  },
  {
   "cell_type": "code",
   "execution_count": 37,
   "id": "ad9be3d6",
   "metadata": {
    "execution": {
     "iopub.execute_input": "2024-07-13T15:50:20.606708Z",
     "iopub.status.busy": "2024-07-13T15:50:20.606329Z",
     "iopub.status.idle": "2024-07-13T15:50:20.619332Z",
     "shell.execute_reply": "2024-07-13T15:50:20.618065Z"
    },
    "papermill": {
     "duration": 0.039603,
     "end_time": "2024-07-13T15:50:20.621723",
     "exception": false,
     "start_time": "2024-07-13T15:50:20.582120",
     "status": "completed"
    },
    "tags": []
   },
   "outputs": [
    {
     "data": {
      "text/plain": [
       "App\n",
       "Car Crash III Beam DH Real Damage Simulator 2018    1\n",
       "Draft Simulator for FUT 18                          1\n",
       "Gangster Town: Vice District                        1\n",
       "Hungry Shark Evolution                              3\n",
       "Miami crime simulator                               1\n",
       "Mini Golf King - Multiplayer Game                   1\n",
       "Navi Radiography Pro                                1\n",
       "Post Bank                                           1\n",
       "SimCity BuildIt                                     1\n",
       "Stickman Legends: Shadow Wars                       1\n",
       "Talking Babsy Baby: Baby Games                      1\n",
       "The Walking Dead: Our World                         1\n",
       "Ultimate Tennis                                     1\n",
       "Vi Trainer                                          1\n",
       "dtype: int64"
      ]
     },
     "execution_count": 37,
     "metadata": {},
     "output_type": "execute_result"
    }
   ],
   "source": [
    "df['Size'].max()\n",
    "ma=df['Size']==104857600.0\n",
    "df[ma].groupby('App').size()\n"
   ]
  },
  {
   "cell_type": "code",
   "execution_count": 38,
   "id": "3e5d3d07",
   "metadata": {
    "execution": {
     "iopub.execute_input": "2024-07-13T15:50:20.669863Z",
     "iopub.status.busy": "2024-07-13T15:50:20.669283Z",
     "iopub.status.idle": "2024-07-13T15:50:20.708776Z",
     "shell.execute_reply": "2024-07-13T15:50:20.707197Z"
    },
    "papermill": {
     "duration": 0.06758,
     "end_time": "2024-07-13T15:50:20.712008",
     "exception": false,
     "start_time": "2024-07-13T15:50:20.644428",
     "status": "completed"
    },
    "tags": []
   },
   "outputs": [
    {
     "data": {
      "text/html": [
       "<div>\n",
       "<style scoped>\n",
       "    .dataframe tbody tr th:only-of-type {\n",
       "        vertical-align: middle;\n",
       "    }\n",
       "\n",
       "    .dataframe tbody tr th {\n",
       "        vertical-align: top;\n",
       "    }\n",
       "\n",
       "    .dataframe thead th {\n",
       "        text-align: right;\n",
       "    }\n",
       "</style>\n",
       "<table border=\"1\" class=\"dataframe\">\n",
       "  <thead>\n",
       "    <tr style=\"text-align: right;\">\n",
       "      <th></th>\n",
       "      <th>Rating</th>\n",
       "      <th>Size</th>\n",
       "      <th>Installs</th>\n",
       "      <th>Price</th>\n",
       "      <th>Size In Mbs</th>\n",
       "      <th>Size in Kbs</th>\n",
       "    </tr>\n",
       "  </thead>\n",
       "  <tbody>\n",
       "    <tr>\n",
       "      <th>count</th>\n",
       "      <td>9366.000000</td>\n",
       "      <td>9.145000e+03</td>\n",
       "      <td>1.084000e+04</td>\n",
       "      <td>10840.000000</td>\n",
       "      <td>9145.000000</td>\n",
       "      <td>9145.000000</td>\n",
       "    </tr>\n",
       "    <tr>\n",
       "      <th>mean</th>\n",
       "      <td>4.191757</td>\n",
       "      <td>2.256133e+07</td>\n",
       "      <td>1.546434e+07</td>\n",
       "      <td>1.027368</td>\n",
       "      <td>21.516165</td>\n",
       "      <td>22032.553406</td>\n",
       "    </tr>\n",
       "    <tr>\n",
       "      <th>std</th>\n",
       "      <td>0.515219</td>\n",
       "      <td>2.368637e+07</td>\n",
       "      <td>8.502936e+07</td>\n",
       "      <td>15.949703</td>\n",
       "      <td>22.589084</td>\n",
       "      <td>23131.222364</td>\n",
       "    </tr>\n",
       "    <tr>\n",
       "      <th>min</th>\n",
       "      <td>1.000000</td>\n",
       "      <td>8.704000e+03</td>\n",
       "      <td>0.000000e+00</td>\n",
       "      <td>0.000000</td>\n",
       "      <td>0.008301</td>\n",
       "      <td>8.500000</td>\n",
       "    </tr>\n",
       "    <tr>\n",
       "      <th>25%</th>\n",
       "      <td>4.000000</td>\n",
       "      <td>5.138022e+06</td>\n",
       "      <td>1.000000e+03</td>\n",
       "      <td>0.000000</td>\n",
       "      <td>4.900000</td>\n",
       "      <td>5017.600000</td>\n",
       "    </tr>\n",
       "    <tr>\n",
       "      <th>50%</th>\n",
       "      <td>4.300000</td>\n",
       "      <td>1.363149e+07</td>\n",
       "      <td>1.000000e+05</td>\n",
       "      <td>0.000000</td>\n",
       "      <td>13.000000</td>\n",
       "      <td>13312.000000</td>\n",
       "    </tr>\n",
       "    <tr>\n",
       "      <th>75%</th>\n",
       "      <td>4.500000</td>\n",
       "      <td>3.145728e+07</td>\n",
       "      <td>5.000000e+06</td>\n",
       "      <td>0.000000</td>\n",
       "      <td>30.000000</td>\n",
       "      <td>30720.000000</td>\n",
       "    </tr>\n",
       "    <tr>\n",
       "      <th>max</th>\n",
       "      <td>5.000000</td>\n",
       "      <td>1.048576e+08</td>\n",
       "      <td>1.000000e+09</td>\n",
       "      <td>400.000000</td>\n",
       "      <td>100.000000</td>\n",
       "      <td>102400.000000</td>\n",
       "    </tr>\n",
       "  </tbody>\n",
       "</table>\n",
       "</div>"
      ],
      "text/plain": [
       "            Rating          Size      Installs         Price  Size In Mbs  \\\n",
       "count  9366.000000  9.145000e+03  1.084000e+04  10840.000000  9145.000000   \n",
       "mean      4.191757  2.256133e+07  1.546434e+07      1.027368    21.516165   \n",
       "std       0.515219  2.368637e+07  8.502936e+07     15.949703    22.589084   \n",
       "min       1.000000  8.704000e+03  0.000000e+00      0.000000     0.008301   \n",
       "25%       4.000000  5.138022e+06  1.000000e+03      0.000000     4.900000   \n",
       "50%       4.300000  1.363149e+07  1.000000e+05      0.000000    13.000000   \n",
       "75%       4.500000  3.145728e+07  5.000000e+06      0.000000    30.000000   \n",
       "max       5.000000  1.048576e+08  1.000000e+09    400.000000   100.000000   \n",
       "\n",
       "         Size in Kbs  \n",
       "count    9145.000000  \n",
       "mean    22032.553406  \n",
       "std     23131.222364  \n",
       "min         8.500000  \n",
       "25%      5017.600000  \n",
       "50%     13312.000000  \n",
       "75%     30720.000000  \n",
       "max    102400.000000  "
      ]
     },
     "execution_count": 38,
     "metadata": {},
     "output_type": "execute_result"
    }
   ],
   "source": [
    "df.describe()"
   ]
  },
  {
   "cell_type": "code",
   "execution_count": 39,
   "id": "4e4ebdb9",
   "metadata": {
    "execution": {
     "iopub.execute_input": "2024-07-13T15:50:20.772188Z",
     "iopub.status.busy": "2024-07-13T15:50:20.771766Z",
     "iopub.status.idle": "2024-07-13T15:50:20.790423Z",
     "shell.execute_reply": "2024-07-13T15:50:20.788845Z"
    },
    "papermill": {
     "duration": 0.047012,
     "end_time": "2024-07-13T15:50:20.793272",
     "exception": false,
     "start_time": "2024-07-13T15:50:20.746260",
     "status": "completed"
    },
    "tags": []
   },
   "outputs": [
    {
     "data": {
      "text/plain": [
       "App                     Type  Genres\n",
       "GollerCepte Live Score  Free  Sports    1\n",
       "dtype: int64"
      ]
     },
     "execution_count": 39,
     "metadata": {},
     "output_type": "execute_result"
    }
   ],
   "source": [
    "df['Reviews'].max()\n",
    "re=df['Reviews']=='9992'\n",
    "df[re].groupby(['App','Type','Genres']).size()"
   ]
  },
  {
   "cell_type": "code",
   "execution_count": 40,
   "id": "224ebc78",
   "metadata": {
    "execution": {
     "iopub.execute_input": "2024-07-13T15:50:20.862264Z",
     "iopub.status.busy": "2024-07-13T15:50:20.861703Z",
     "iopub.status.idle": "2024-07-13T15:50:21.305201Z",
     "shell.execute_reply": "2024-07-13T15:50:21.303859Z"
    },
    "papermill": {
     "duration": 0.483398,
     "end_time": "2024-07-13T15:50:21.307765",
     "exception": false,
     "start_time": "2024-07-13T15:50:20.824367",
     "status": "completed"
    },
    "tags": []
   },
   "outputs": [
    {
     "data": {
      "image/png": "[encoded data removed]",
      "text/plain": [
       "<Figure size 1400x900 with 2 Axes>"
      ]
     },
     "metadata": {},
     "output_type": "display_data"
    }
   ],
   "source": [
    "plt.figure(figsize=(14,9))\n",
    "cor=df[['Price','Rating','Installs','Size In Mbs','Size in Kbs','Reviews']].corr()\n",
    "sns.heatmap(cor,annot=True)\n",
    "plt.show()"
   ]
  },
  {
   "cell_type": "code",
   "execution_count": 41,
   "id": "9999375a",
   "metadata": {
    "execution": {
     "iopub.execute_input": "2024-07-13T15:50:21.357691Z",
     "iopub.status.busy": "2024-07-13T15:50:21.357270Z",
     "iopub.status.idle": "2024-07-13T15:50:21.366341Z",
     "shell.execute_reply": "2024-07-13T15:50:21.365045Z"
    },
    "papermill": {
     "duration": 0.036937,
     "end_time": "2024-07-13T15:50:21.368900",
     "exception": false,
     "start_time": "2024-07-13T15:50:21.331963",
     "status": "completed"
    },
    "tags": []
   },
   "outputs": [],
   "source": [
    "df.drop('Size',axis=1,inplace=True)"
   ]
  },
  {
   "cell_type": "code",
   "execution_count": 42,
   "id": "2662fb28",
   "metadata": {
    "execution": {
     "iopub.execute_input": "2024-07-13T15:50:21.432065Z",
     "iopub.status.busy": "2024-07-13T15:50:21.431139Z",
     "iopub.status.idle": "2024-07-13T15:50:21.446288Z",
     "shell.execute_reply": "2024-07-13T15:50:21.444993Z"
    },
    "papermill": {
     "duration": 0.053579,
     "end_time": "2024-07-13T15:50:21.449338",
     "exception": false,
     "start_time": "2024-07-13T15:50:21.395759",
     "status": "completed"
    },
    "tags": []
   },
   "outputs": [
    {
     "data": {
      "text/plain": [
       "App                  0\n",
       "Category             0\n",
       "Rating            1474\n",
       "Reviews              0\n",
       "Installs             0\n",
       "Type                 1\n",
       "Price                0\n",
       "Content Rating       0\n",
       "Genres               0\n",
       "Last Updated         0\n",
       "Current Ver          8\n",
       "Android Ver          2\n",
       "Size In Mbs       1695\n",
       "Size in Kbs       1695\n",
       "dtype: int64"
      ]
     },
     "execution_count": 42,
     "metadata": {},
     "output_type": "execute_result"
    }
   ],
   "source": [
    "df.isnull().sum()"
   ]
  },
  {
   "cell_type": "code",
   "execution_count": 43,
   "id": "704d5e29",
   "metadata": {
    "execution": {
     "iopub.execute_input": "2024-07-13T15:50:21.505215Z",
     "iopub.status.busy": "2024-07-13T15:50:21.504115Z",
     "iopub.status.idle": "2024-07-13T15:50:21.516974Z",
     "shell.execute_reply": "2024-07-13T15:50:21.515529Z"
    },
    "papermill": {
     "duration": 0.041676,
     "end_time": "2024-07-13T15:50:21.519633",
     "exception": false,
     "start_time": "2024-07-13T15:50:21.477957",
     "status": "completed"
    },
    "tags": []
   },
   "outputs": [],
   "source": [
    "df.dropna(subset=['Current Ver','Android Ver','Type'],inplace=True)"
   ]
  },
  {
   "cell_type": "code",
   "execution_count": 44,
   "id": "ac475a2f",
   "metadata": {
    "execution": {
     "iopub.execute_input": "2024-07-13T15:50:21.570623Z",
     "iopub.status.busy": "2024-07-13T15:50:21.570214Z",
     "iopub.status.idle": "2024-07-13T15:50:21.584772Z",
     "shell.execute_reply": "2024-07-13T15:50:21.583571Z"
    },
    "papermill": {
     "duration": 0.042555,
     "end_time": "2024-07-13T15:50:21.587020",
     "exception": false,
     "start_time": "2024-07-13T15:50:21.544465",
     "status": "completed"
    },
    "tags": []
   },
   "outputs": [
    {
     "data": {
      "text/plain": [
       "App                  0\n",
       "Category             0\n",
       "Rating            1469\n",
       "Reviews              0\n",
       "Installs             0\n",
       "Type                 0\n",
       "Price                0\n",
       "Content Rating       0\n",
       "Genres               0\n",
       "Last Updated         0\n",
       "Current Ver          0\n",
       "Android Ver          0\n",
       "Size In Mbs       1694\n",
       "Size in Kbs       1694\n",
       "dtype: int64"
      ]
     },
     "execution_count": 44,
     "metadata": {},
     "output_type": "execute_result"
    }
   ],
   "source": [
    "df.isnull().sum()"
   ]
  },
  {
   "cell_type": "code",
   "execution_count": 45,
   "id": "07209f09",
   "metadata": {
    "execution": {
     "iopub.execute_input": "2024-07-13T15:50:21.638362Z",
     "iopub.status.busy": "2024-07-13T15:50:21.637955Z",
     "iopub.status.idle": "2024-07-13T15:50:21.645759Z",
     "shell.execute_reply": "2024-07-13T15:50:21.644674Z"
    },
    "papermill": {
     "duration": 0.035622,
     "end_time": "2024-07-13T15:50:21.648135",
     "exception": false,
     "start_time": "2024-07-13T15:50:21.612513",
     "status": "completed"
    },
    "tags": []
   },
   "outputs": [],
   "source": [
    "d=df.groupby('Type')['Installs'].size()"
   ]
  },
  {
   "cell_type": "code",
   "execution_count": 46,
   "id": "210f2457",
   "metadata": {
    "execution": {
     "iopub.execute_input": "2024-07-13T15:50:21.698444Z",
     "iopub.status.busy": "2024-07-13T15:50:21.698037Z",
     "iopub.status.idle": "2024-07-13T15:50:21.887475Z",
     "shell.execute_reply": "2024-07-13T15:50:21.886186Z"
    },
    "papermill": {
     "duration": 0.217333,
     "end_time": "2024-07-13T15:50:21.889907",
     "exception": false,
     "start_time": "2024-07-13T15:50:21.672574",
     "status": "completed"
    },
    "tags": []
   },
   "outputs": [
    {
     "data": {
      "image/png": "[encoded data removed]",
      "text/plain": [
       "<Figure size 640x480 with 1 Axes>"
      ]
     },
     "metadata": {},
     "output_type": "display_data"
    }
   ],
   "source": [
    "d.plot(kind='bar')\n",
    "plt.show()"
   ]
  },
  {
   "cell_type": "code",
   "execution_count": 47,
   "id": "600e0888",
   "metadata": {
    "execution": {
     "iopub.execute_input": "2024-07-13T15:50:21.940724Z",
     "iopub.status.busy": "2024-07-13T15:50:21.940308Z",
     "iopub.status.idle": "2024-07-13T15:50:21.951984Z",
     "shell.execute_reply": "2024-07-13T15:50:21.950676Z"
    },
    "papermill": {
     "duration": 0.040338,
     "end_time": "2024-07-13T15:50:21.954530",
     "exception": false,
     "start_time": "2024-07-13T15:50:21.914192",
     "status": "completed"
    },
    "tags": []
   },
   "outputs": [],
   "source": [
    "bins=[0.0,100000.0,1000000.0,10000000.0,100000000.0,1000000000.0]\n",
    "labels=['low','medium','high','very high','top notch']\n",
    "df['Install Conditions']=pd.cut(df['Installs'],bins=bins,labels=labels)"
   ]
  },
  {
   "cell_type": "code",
   "execution_count": 48,
   "id": "04cac2d8",
   "metadata": {
    "execution": {
     "iopub.execute_input": "2024-07-13T15:50:22.005262Z",
     "iopub.status.busy": "2024-07-13T15:50:22.004877Z",
     "iopub.status.idle": "2024-07-13T15:50:22.016767Z",
     "shell.execute_reply": "2024-07-13T15:50:22.015598Z"
    },
    "papermill": {
     "duration": 0.04061,
     "end_time": "2024-07-13T15:50:22.019327",
     "exception": false,
     "start_time": "2024-07-13T15:50:21.978717",
     "status": "completed"
    },
    "tags": []
   },
   "outputs": [
    {
     "data": {
      "text/plain": [
       "Install Conditions\n",
       "low          1452\n",
       "medium          3\n",
       "high            0\n",
       "very high       0\n",
       "top notch       0\n",
       "Name: count, dtype: int64"
      ]
     },
     "execution_count": 48,
     "metadata": {},
     "output_type": "execute_result"
    }
   ],
   "source": [
    "df['Install Conditions'].loc[df['Rating'].isnull()].value_counts()"
   ]
  },
  {
   "cell_type": "code",
   "execution_count": 49,
   "id": "ff822f0a",
   "metadata": {
    "execution": {
     "iopub.execute_input": "2024-07-13T15:50:22.070957Z",
     "iopub.status.busy": "2024-07-13T15:50:22.070504Z",
     "iopub.status.idle": "2024-07-13T15:50:22.473820Z",
     "shell.execute_reply": "2024-07-13T15:50:22.472632Z"
    },
    "papermill": {
     "duration": 0.4324,
     "end_time": "2024-07-13T15:50:22.476256",
     "exception": false,
     "start_time": "2024-07-13T15:50:22.043856",
     "status": "completed"
    },
    "tags": []
   },
   "outputs": [
    {
     "data": {
      "image/png": "[encoded data removed]",
      "text/plain": [
       "<Figure size 1600x600 with 1 Axes>"
      ]
     },
     "metadata": {},
     "output_type": "display_data"
    }
   ],
   "source": [
    "plt.figure(figsize=(16,6))\n",
    "sns.boxplot(x='Install Conditions',y='Rating',hue='Install Conditions',data=df)\n",
    "plt.show()"
   ]
  },
  {
   "cell_type": "code",
   "execution_count": 50,
   "id": "5a66699f",
   "metadata": {
    "execution": {
     "iopub.execute_input": "2024-07-13T15:50:22.528161Z",
     "iopub.status.busy": "2024-07-13T15:50:22.527767Z",
     "iopub.status.idle": "2024-07-13T15:50:22.562173Z",
     "shell.execute_reply": "2024-07-13T15:50:22.560957Z"
    },
    "papermill": {
     "duration": 0.063298,
     "end_time": "2024-07-13T15:50:22.564579",
     "exception": false,
     "start_time": "2024-07-13T15:50:22.501281",
     "status": "completed"
    },
    "tags": []
   },
   "outputs": [
    {
     "data": {
      "text/html": [
       "<div>\n",
       "<style scoped>\n",
       "    .dataframe tbody tr th:only-of-type {\n",
       "        vertical-align: middle;\n",
       "    }\n",
       "\n",
       "    .dataframe tbody tr th {\n",
       "        vertical-align: top;\n",
       "    }\n",
       "\n",
       "    .dataframe thead th {\n",
       "        text-align: right;\n",
       "    }\n",
       "</style>\n",
       "<table border=\"1\" class=\"dataframe\">\n",
       "  <thead>\n",
       "    <tr style=\"text-align: right;\">\n",
       "      <th></th>\n",
       "      <th>count</th>\n",
       "      <th>mean</th>\n",
       "      <th>std</th>\n",
       "      <th>min</th>\n",
       "      <th>25%</th>\n",
       "      <th>50%</th>\n",
       "      <th>75%</th>\n",
       "      <th>max</th>\n",
       "    </tr>\n",
       "    <tr>\n",
       "      <th>Install Conditions</th>\n",
       "      <th></th>\n",
       "      <th></th>\n",
       "      <th></th>\n",
       "      <th></th>\n",
       "      <th></th>\n",
       "      <th></th>\n",
       "      <th></th>\n",
       "      <th></th>\n",
       "    </tr>\n",
       "  </thead>\n",
       "  <tbody>\n",
       "    <tr>\n",
       "      <th>low</th>\n",
       "      <td>4415.0</td>\n",
       "      <td>4.106863</td>\n",
       "      <td>0.656404</td>\n",
       "      <td>1.0</td>\n",
       "      <td>3.8</td>\n",
       "      <td>4.2</td>\n",
       "      <td>4.5</td>\n",
       "      <td>5.0</td>\n",
       "    </tr>\n",
       "    <tr>\n",
       "      <th>medium</th>\n",
       "      <td>2113.0</td>\n",
       "      <td>4.207525</td>\n",
       "      <td>0.376594</td>\n",
       "      <td>1.8</td>\n",
       "      <td>4.0</td>\n",
       "      <td>4.3</td>\n",
       "      <td>4.5</td>\n",
       "      <td>4.9</td>\n",
       "    </tr>\n",
       "    <tr>\n",
       "      <th>high</th>\n",
       "      <td>2004.0</td>\n",
       "      <td>4.287076</td>\n",
       "      <td>0.294902</td>\n",
       "      <td>2.0</td>\n",
       "      <td>4.1</td>\n",
       "      <td>4.3</td>\n",
       "      <td>4.5</td>\n",
       "      <td>4.9</td>\n",
       "    </tr>\n",
       "    <tr>\n",
       "      <th>very high</th>\n",
       "      <td>698.0</td>\n",
       "      <td>4.386533</td>\n",
       "      <td>0.192817</td>\n",
       "      <td>3.1</td>\n",
       "      <td>4.3</td>\n",
       "      <td>4.4</td>\n",
       "      <td>4.5</td>\n",
       "      <td>4.8</td>\n",
       "    </tr>\n",
       "    <tr>\n",
       "      <th>top notch</th>\n",
       "      <td>130.0</td>\n",
       "      <td>4.309231</td>\n",
       "      <td>0.186126</td>\n",
       "      <td>3.7</td>\n",
       "      <td>4.2</td>\n",
       "      <td>4.3</td>\n",
       "      <td>4.4</td>\n",
       "      <td>4.7</td>\n",
       "    </tr>\n",
       "  </tbody>\n",
       "</table>\n",
       "</div>"
      ],
      "text/plain": [
       "                     count      mean       std  min  25%  50%  75%  max\n",
       "Install Conditions                                                     \n",
       "low                 4415.0  4.106863  0.656404  1.0  3.8  4.2  4.5  5.0\n",
       "medium              2113.0  4.207525  0.376594  1.8  4.0  4.3  4.5  4.9\n",
       "high                2004.0  4.287076  0.294902  2.0  4.1  4.3  4.5  4.9\n",
       "very high            698.0  4.386533  0.192817  3.1  4.3  4.4  4.5  4.8\n",
       "top notch            130.0  4.309231  0.186126  3.7  4.2  4.3  4.4  4.7"
      ]
     },
     "execution_count": 50,
     "metadata": {},
     "output_type": "execute_result"
    }
   ],
   "source": [
    "df.groupby('Install Conditions')['Rating'].describe()"
   ]
  },
  {
   "cell_type": "code",
   "execution_count": 51,
   "id": "366da393",
   "metadata": {
    "execution": {
     "iopub.execute_input": "2024-07-13T15:50:22.616981Z",
     "iopub.status.busy": "2024-07-13T15:50:22.616574Z",
     "iopub.status.idle": "2024-07-13T15:50:22.624098Z",
     "shell.execute_reply": "2024-07-13T15:50:22.622645Z"
    },
    "papermill": {
     "duration": 0.0369,
     "end_time": "2024-07-13T15:50:22.626853",
     "exception": false,
     "start_time": "2024-07-13T15:50:22.589953",
     "status": "completed"
    },
    "tags": []
   },
   "outputs": [],
   "source": [
    "df.loc[df['Install Conditions']=='low','Rating']=4.106863"
   ]
  },
  {
   "cell_type": "code",
   "execution_count": 52,
   "id": "f686ad2b",
   "metadata": {
    "execution": {
     "iopub.execute_input": "2024-07-13T15:50:22.680299Z",
     "iopub.status.busy": "2024-07-13T15:50:22.679312Z",
     "iopub.status.idle": "2024-07-13T15:50:22.686179Z",
     "shell.execute_reply": "2024-07-13T15:50:22.685019Z"
    },
    "papermill": {
     "duration": 0.036084,
     "end_time": "2024-07-13T15:50:22.688587",
     "exception": false,
     "start_time": "2024-07-13T15:50:22.652503",
     "status": "completed"
    },
    "tags": []
   },
   "outputs": [],
   "source": [
    "df.loc[df['Install Conditions']=='medium','Rating']=4.207525"
   ]
  },
  {
   "cell_type": "code",
   "execution_count": 53,
   "id": "93b8d5c5",
   "metadata": {
    "execution": {
     "iopub.execute_input": "2024-07-13T15:50:22.743083Z",
     "iopub.status.busy": "2024-07-13T15:50:22.742651Z",
     "iopub.status.idle": "2024-07-13T15:50:22.753164Z",
     "shell.execute_reply": "2024-07-13T15:50:22.751869Z"
    },
    "papermill": {
     "duration": 0.041062,
     "end_time": "2024-07-13T15:50:22.755445",
     "exception": false,
     "start_time": "2024-07-13T15:50:22.714383",
     "status": "completed"
    },
    "tags": []
   },
   "outputs": [
    {
     "data": {
      "text/plain": [
       "Install Conditions\n",
       "low          0\n",
       "medium       0\n",
       "high         0\n",
       "very high    0\n",
       "top notch    0\n",
       "Name: count, dtype: int64"
      ]
     },
     "execution_count": 53,
     "metadata": {},
     "output_type": "execute_result"
    }
   ],
   "source": [
    "df['Install Conditions'].loc[df['Rating'].isnull()].value_counts()"
   ]
  },
  {
   "cell_type": "code",
   "execution_count": 54,
   "id": "3dc3dc87",
   "metadata": {
    "execution": {
     "iopub.execute_input": "2024-07-13T15:50:22.809011Z",
     "iopub.status.busy": "2024-07-13T15:50:22.808595Z",
     "iopub.status.idle": "2024-07-13T15:50:22.821658Z",
     "shell.execute_reply": "2024-07-13T15:50:22.820264Z"
    },
    "papermill": {
     "duration": 0.042376,
     "end_time": "2024-07-13T15:50:22.824085",
     "exception": false,
     "start_time": "2024-07-13T15:50:22.781709",
     "status": "completed"
    },
    "tags": []
   },
   "outputs": [],
   "source": [
    "df['Reviews']=pd.to_numeric(df['Reviews'],errors='coerce')"
   ]
  },
  {
   "cell_type": "code",
   "execution_count": 55,
   "id": "5a2f1e8b",
   "metadata": {
    "execution": {
     "iopub.execute_input": "2024-07-13T15:50:22.876887Z",
     "iopub.status.busy": "2024-07-13T15:50:22.876452Z",
     "iopub.status.idle": "2024-07-13T15:50:23.174008Z",
     "shell.execute_reply": "2024-07-13T15:50:23.172804Z"
    },
    "papermill": {
     "duration": 0.327073,
     "end_time": "2024-07-13T15:50:23.176442",
     "exception": false,
     "start_time": "2024-07-13T15:50:22.849369",
     "status": "completed"
    },
    "tags": []
   },
   "outputs": [
    {
     "data": {
      "image/png": "[encoded data removed]",
      "text/plain": [
       "<Figure size 1600x600 with 1 Axes>"
      ]
     },
     "metadata": {},
     "output_type": "display_data"
    }
   ],
   "source": [
    "plt.figure(figsize=(16,6))\n",
    "sns.boxplot(x='Install Conditions',y=np.log10(df['Reviews']),data=df)\n",
    "plt.show()"
   ]
  },
  {
   "cell_type": "code",
   "execution_count": 56,
   "id": "deec8de9",
   "metadata": {
    "execution": {
     "iopub.execute_input": "2024-07-13T15:50:23.231342Z",
     "iopub.status.busy": "2024-07-13T15:50:23.230939Z",
     "iopub.status.idle": "2024-07-13T15:50:23.933637Z",
     "shell.execute_reply": "2024-07-13T15:50:23.932553Z"
    },
    "papermill": {
     "duration": 0.733732,
     "end_time": "2024-07-13T15:50:23.936180",
     "exception": false,
     "start_time": "2024-07-13T15:50:23.202448",
     "status": "completed"
    },
    "tags": []
   },
   "outputs": [
    {
     "data": {
      "image/png": "[encoded data removed]",
      "text/plain": [
       "<Figure size 640x480 with 1 Axes>"
      ]
     },
     "metadata": {},
     "output_type": "display_data"
    }
   ],
   "source": [
    "sns.scatterplot(x='Rating',y='Reviews',hue='Install Conditions',data=df)\n",
    "plt.show()"
   ]
  },
  {
   "cell_type": "code",
   "execution_count": 57,
   "id": "c030acad",
   "metadata": {
    "execution": {
     "iopub.execute_input": "2024-07-13T15:50:23.991709Z",
     "iopub.status.busy": "2024-07-13T15:50:23.991313Z",
     "iopub.status.idle": "2024-07-13T15:50:24.687399Z",
     "shell.execute_reply": "2024-07-13T15:50:24.685941Z"
    },
    "papermill": {
     "duration": 0.727694,
     "end_time": "2024-07-13T15:50:24.690353",
     "exception": false,
     "start_time": "2024-07-13T15:50:23.962659",
     "status": "completed"
    },
    "tags": []
   },
   "outputs": [
    {
     "data": {
      "image/png": "[encoded data removed]",
      "text/plain": [
       "<Figure size 640x480 with 1 Axes>"
      ]
     },
     "metadata": {},
     "output_type": "display_data"
    }
   ],
   "source": [
    "sns.scatterplot(x=np.log10(df['Rating']),y=np.log10(df['Reviews']),hue='Install Conditions',data=df)\n",
    "plt.show()"
   ]
  },
  {
   "cell_type": "code",
   "execution_count": 58,
   "id": "d1489288",
   "metadata": {
    "execution": {
     "iopub.execute_input": "2024-07-13T15:50:24.749624Z",
     "iopub.status.busy": "2024-07-13T15:50:24.749257Z",
     "iopub.status.idle": "2024-07-13T15:50:25.759768Z",
     "shell.execute_reply": "2024-07-13T15:50:25.758608Z"
    },
    "papermill": {
     "duration": 1.043705,
     "end_time": "2024-07-13T15:50:25.762187",
     "exception": false,
     "start_time": "2024-07-13T15:50:24.718482",
     "status": "completed"
    },
    "tags": []
   },
   "outputs": [
    {
     "data": {
      "image/png": "[encoded data removed]",
      "text/plain": [
       "<Figure size 500x500 with 1 Axes>"
      ]
     },
     "metadata": {},
     "output_type": "display_data"
    }
   ],
   "source": [
    "sns.lmplot(x='Reviews',y='Installs',data=df)\n",
    "plt.show()"
   ]
  },
  {
   "cell_type": "code",
   "execution_count": 59,
   "id": "14d9ed4a",
   "metadata": {
    "execution": {
     "iopub.execute_input": "2024-07-13T15:50:25.821136Z",
     "iopub.status.busy": "2024-07-13T15:50:25.820721Z",
     "iopub.status.idle": "2024-07-13T15:50:25.841321Z",
     "shell.execute_reply": "2024-07-13T15:50:25.840020Z"
    },
    "papermill": {
     "duration": 0.052787,
     "end_time": "2024-07-13T15:50:25.843609",
     "exception": false,
     "start_time": "2024-07-13T15:50:25.790822",
     "status": "completed"
    },
    "tags": []
   },
   "outputs": [
    {
     "data": {
      "text/plain": [
       "483"
      ]
     },
     "execution_count": 59,
     "metadata": {},
     "output_type": "execute_result"
    }
   ],
   "source": [
    "df.duplicated().sum()"
   ]
  },
  {
   "cell_type": "code",
   "execution_count": 60,
   "id": "dd3ec067",
   "metadata": {
    "execution": {
     "iopub.execute_input": "2024-07-13T15:50:25.903313Z",
     "iopub.status.busy": "2024-07-13T15:50:25.902957Z",
     "iopub.status.idle": "2024-07-13T15:50:25.911465Z",
     "shell.execute_reply": "2024-07-13T15:50:25.910305Z"
    },
    "papermill": {
     "duration": 0.041253,
     "end_time": "2024-07-13T15:50:25.913578",
     "exception": false,
     "start_time": "2024-07-13T15:50:25.872325",
     "status": "completed"
    },
    "tags": []
   },
   "outputs": [
    {
     "data": {
      "text/plain": [
       "1181"
      ]
     },
     "execution_count": 60,
     "metadata": {},
     "output_type": "execute_result"
    }
   ],
   "source": [
    "df['App'].duplicated().sum()"
   ]
  },
  {
   "cell_type": "code",
   "execution_count": 61,
   "id": "168141aa",
   "metadata": {
    "execution": {
     "iopub.execute_input": "2024-07-13T15:50:25.972437Z",
     "iopub.status.busy": "2024-07-13T15:50:25.971708Z",
     "iopub.status.idle": "2024-07-13T15:50:25.984561Z",
     "shell.execute_reply": "2024-07-13T15:50:25.983057Z"
    },
    "papermill": {
     "duration": 0.044992,
     "end_time": "2024-07-13T15:50:25.986957",
     "exception": false,
     "start_time": "2024-07-13T15:50:25.941965",
     "status": "completed"
    },
    "tags": []
   },
   "outputs": [
    {
     "name": "stdout",
     "output_type": "stream",
     "text": [
      "The dup values are: 1181\n",
      "The dup values are: 10796\n",
      "The dup values are: 10804\n",
      "The dup values are: 4830\n",
      "The dup values are: 10809\n",
      "The dup values are: 10827\n",
      "The dup values are: 10737\n",
      "The dup values are: 10823\n",
      "The dup values are: 10710\n",
      "The dup values are: 9453\n",
      "The dup values are: 7998\n",
      "The dup values are: 10796\n",
      "The dup values are: 10373\n",
      "The dup values are: 10373\n",
      "The dup values are: 10823\n"
     ]
    }
   ],
   "source": [
    "for col in df.columns:\n",
    "    print(\"The dup values are:\",df[col].duplicated().sum())"
   ]
  },
  {
   "cell_type": "code",
   "execution_count": 62,
   "id": "e6b34401",
   "metadata": {
    "execution": {
     "iopub.execute_input": "2024-07-13T15:50:26.045719Z",
     "iopub.status.busy": "2024-07-13T15:50:26.045319Z",
     "iopub.status.idle": "2024-07-13T15:50:26.056518Z",
     "shell.execute_reply": "2024-07-13T15:50:26.055393Z"
    },
    "papermill": {
     "duration": 0.043439,
     "end_time": "2024-07-13T15:50:26.059006",
     "exception": false,
     "start_time": "2024-07-13T15:50:26.015567",
     "status": "completed"
    },
    "tags": []
   },
   "outputs": [],
   "source": [
    "f=df[df['App'].duplicated(keep=False)].sort_values(by='App')"
   ]
  },
  {
   "cell_type": "code",
   "execution_count": 63,
   "id": "6ce676f6",
   "metadata": {
    "execution": {
     "iopub.execute_input": "2024-07-13T15:50:26.118627Z",
     "iopub.status.busy": "2024-07-13T15:50:26.117831Z",
     "iopub.status.idle": "2024-07-13T15:50:26.137117Z",
     "shell.execute_reply": "2024-07-13T15:50:26.136004Z"
    },
    "papermill": {
     "duration": 0.052392,
     "end_time": "2024-07-13T15:50:26.139692",
     "exception": false,
     "start_time": "2024-07-13T15:50:26.087300",
     "status": "completed"
    },
    "tags": []
   },
   "outputs": [],
   "source": [
    "df.drop_duplicates(inplace=True)"
   ]
  },
  {
   "cell_type": "code",
   "execution_count": 64,
   "id": "0a141716",
   "metadata": {
    "execution": {
     "iopub.execute_input": "2024-07-13T15:50:26.198604Z",
     "iopub.status.busy": "2024-07-13T15:50:26.198220Z",
     "iopub.status.idle": "2024-07-13T15:50:26.217435Z",
     "shell.execute_reply": "2024-07-13T15:50:26.216285Z"
    },
    "papermill": {
     "duration": 0.051604,
     "end_time": "2024-07-13T15:50:26.219923",
     "exception": false,
     "start_time": "2024-07-13T15:50:26.168319",
     "status": "completed"
    },
    "tags": []
   },
   "outputs": [
    {
     "data": {
      "text/plain": [
       "0"
      ]
     },
     "execution_count": 64,
     "metadata": {},
     "output_type": "execute_result"
    }
   ],
   "source": [
    "df.duplicated().sum()"
   ]
  },
  {
   "cell_type": "markdown",
   "id": "bb932621",
   "metadata": {
    "papermill": {
     "duration": 0.029622,
     "end_time": "2024-07-13T15:50:26.279023",
     "exception": false,
     "start_time": "2024-07-13T15:50:26.249401",
     "status": "completed"
    },
    "tags": []
   },
   "source": [
    "# (2) Insights From Data\n",
    "Generating Some qustions to increase Knowledge About Data"
   ]
  },
  {
   "cell_type": "code",
   "execution_count": 65,
   "id": "01d5d64e",
   "metadata": {
    "execution": {
     "iopub.execute_input": "2024-07-13T15:50:26.338404Z",
     "iopub.status.busy": "2024-07-13T15:50:26.338022Z",
     "iopub.status.idle": "2024-07-13T15:50:26.348496Z",
     "shell.execute_reply": "2024-07-13T15:50:26.347325Z"
    },
    "papermill": {
     "duration": 0.043181,
     "end_time": "2024-07-13T15:50:26.350934",
     "exception": false,
     "start_time": "2024-07-13T15:50:26.307753",
     "status": "completed"
    },
    "tags": []
   },
   "outputs": [
    {
     "data": {
      "text/plain": [
       "Category\n",
       "FAMILY             1939\n",
       "GAME               1121\n",
       "TOOLS               841\n",
       "BUSINESS            427\n",
       "MEDICAL             408\n",
       "PRODUCTIVITY        407\n",
       "PERSONALIZATION     386\n",
       "LIFESTYLE           373\n",
       "COMMUNICATION       366\n",
       "FINANCE             360\n",
       "Name: App, dtype: int64"
      ]
     },
     "execution_count": 65,
     "metadata": {},
     "output_type": "execute_result"
    }
   ],
   "source": [
    "a=df.groupby('Category')['App'].size().sort_values(ascending=False)\n",
    "a.head(10)"
   ]
  },
  {
   "cell_type": "code",
   "execution_count": 66,
   "id": "5fde0d93",
   "metadata": {
    "execution": {
     "iopub.execute_input": "2024-07-13T15:50:26.410223Z",
     "iopub.status.busy": "2024-07-13T15:50:26.409850Z",
     "iopub.status.idle": "2024-07-13T15:50:26.423338Z",
     "shell.execute_reply": "2024-07-13T15:50:26.422069Z"
    },
    "papermill": {
     "duration": 0.046062,
     "end_time": "2024-07-13T15:50:26.425815",
     "exception": false,
     "start_time": "2024-07-13T15:50:26.379753",
     "status": "completed"
    },
    "tags": []
   },
   "outputs": [
    {
     "data": {
      "text/plain": [
       "Category\n",
       "GAME                   10.498917\n",
       "COMMUNICATION          10.382958\n",
       "SOCIAL                 10.097392\n",
       "PRODUCTIVITY           10.095626\n",
       "TOOLS                  10.058892\n",
       "FAMILY                 10.001804\n",
       "PHOTOGRAPHY             9.987722\n",
       "TRAVEL_AND_LOCAL        9.803586\n",
       "VIDEO_PLAYERS           9.793930\n",
       "NEWS_AND_MAGAZINES      9.731848\n",
       "SHOPPING                9.410499\n",
       "ENTERTAINMENT           9.390168\n",
       "PERSONALIZATION         9.316910\n",
       "BOOKS_AND_REFERENCE     9.282502\n",
       "SPORTS                  9.184287\n",
       "HEALTH_AND_FITNESS      9.133865\n",
       "BUSINESS                8.936345\n",
       "FINANCE                 8.886687\n",
       "MAPS_AND_NAVIGATION     8.859908\n",
       "LIFESTYLE               8.728211\n",
       "EDUCATION               8.727502\n",
       "WEATHER                 8.629512\n",
       "FOOD_AND_DRINK          8.411449\n",
       "DATING                  8.314996\n",
       "HOUSE_AND_HOME          8.097648\n",
       "ART_AND_DESIGN          8.094587\n",
       "LIBRARIES_AND_DEMO      7.792363\n",
       "COMICS                  7.748856\n",
       "AUTO_AND_VEHICLES       7.725342\n",
       "MEDICAL                 7.625355\n",
       "PARENTING               7.498602\n",
       "BEAUTY                  7.434522\n",
       "EVENTS                  7.203391\n",
       "Name: Installs, dtype: float64"
      ]
     },
     "execution_count": 66,
     "metadata": {},
     "output_type": "execute_result"
    }
   ],
   "source": [
    "a=df.groupby('Category')['Installs'].sum().sort_values(ascending=False)\n",
    "np.log10(a)"
   ]
  },
  {
   "cell_type": "code",
   "execution_count": 67,
   "id": "e19edd02",
   "metadata": {
    "execution": {
     "iopub.execute_input": "2024-07-13T15:50:26.485561Z",
     "iopub.status.busy": "2024-07-13T15:50:26.485172Z",
     "iopub.status.idle": "2024-07-13T15:50:26.496990Z",
     "shell.execute_reply": "2024-07-13T15:50:26.495363Z"
    },
    "papermill": {
     "duration": 0.044454,
     "end_time": "2024-07-13T15:50:26.499564",
     "exception": false,
     "start_time": "2024-07-13T15:50:26.455110",
     "status": "completed"
    },
    "tags": []
   },
   "outputs": [
    {
     "data": {
      "text/plain": [
       "Category\n",
       "GAME                   1415536650\n",
       "COMMUNICATION           601273552\n",
       "SOCIAL                  533576829\n",
       "FAMILY                  396771746\n",
       "TOOLS                   273181033\n",
       "PHOTOGRAPHY             204297410\n",
       "VIDEO_PLAYERS           110380188\n",
       "PRODUCTIVITY            102554498\n",
       "SHOPPING                 94931162\n",
       "PERSONALIZATION          75192744\n",
       "SPORTS                   65322708\n",
       "TRAVEL_AND_LOCAL         55565160\n",
       "ENTERTAINMENT            47570716\n",
       "NEWS_AND_MAGAZINES       38245873\n",
       "HEALTH_AND_FITNESS       30845186\n",
       "MAPS_AND_NAVIGATION      30659254\n",
       "EDUCATION                23165500\n",
       "BOOKS_AND_REFERENCE      21873219\n",
       "FINANCE                  16999891\n",
       "WEATHER                  14604735\n",
       "LIFESTYLE                12820575\n",
       "BUSINESS                 12358171\n",
       "FOOD_AND_DRINK            7671576\n",
       "DATING                    5545397\n",
       "COMICS                    3383276\n",
       "HOUSE_AND_HOME            2794772\n",
       "ART_AND_DESIGN            1714385\n",
       "MEDICAL                   1396757\n",
       "AUTO_AND_VEHICLES         1163666\n",
       "LIBRARIES_AND_DEMO        1016973\n",
       "PARENTING                  958331\n",
       "BEAUTY                     396240\n",
       "EVENTS                     161018\n",
       "Name: Reviews, dtype: int64"
      ]
     },
     "execution_count": 67,
     "metadata": {},
     "output_type": "execute_result"
    }
   ],
   "source": [
    "a=df.groupby('Category')['Reviews'].sum().sort_values(ascending=False)\n",
    "a"
   ]
  },
  {
   "cell_type": "code",
   "execution_count": 68,
   "id": "61bde8e9",
   "metadata": {
    "execution": {
     "iopub.execute_input": "2024-07-13T15:50:26.559540Z",
     "iopub.status.busy": "2024-07-13T15:50:26.559162Z",
     "iopub.status.idle": "2024-07-13T15:50:26.572746Z",
     "shell.execute_reply": "2024-07-13T15:50:26.571502Z"
    },
    "papermill": {
     "duration": 0.046246,
     "end_time": "2024-07-13T15:50:26.574960",
     "exception": false,
     "start_time": "2024-07-13T15:50:26.528714",
     "status": "completed"
    },
    "tags": []
   },
   "outputs": [
    {
     "data": {
      "text/plain": [
       "Category\n",
       "GAME                   4.264557\n",
       "EDUCATION              4.252075\n",
       "PHOTOGRAPHY            4.235863\n",
       "HEALTH_AND_FITNESS     4.221121\n",
       "SHOPPING               4.219416\n",
       "HOUSE_AND_HOME         4.196107\n",
       "PRODUCTIVITY           4.193306\n",
       "VIDEO_PLAYERS          4.193143\n",
       "SOCIAL                 4.192825\n",
       "COMMUNICATION          4.191928\n",
       "WEATHER                4.190446\n",
       "BOOKS_AND_REFERENCE    4.175640\n",
       "PERSONALIZATION        4.175230\n",
       "FOOD_AND_DRINK         4.174070\n",
       "ART_AND_DESIGN         4.169480\n",
       "MAPS_AND_NAVIGATION    4.168804\n",
       "SPORTS                 4.168329\n",
       "TRAVEL_AND_LOCAL       4.165105\n",
       "ENTERTAINMENT          4.159439\n",
       "FAMILY                 4.156561\n",
       "TOOLS                  4.155844\n",
       "FINANCE                4.155008\n",
       "NEWS_AND_MAGAZINES     4.149993\n",
       "COMICS                 4.144698\n",
       "AUTO_AND_VEHICLES      4.144247\n",
       "PARENTING              4.140144\n",
       "BEAUTY                 4.138854\n",
       "DATING                 4.133879\n",
       "LIFESTYLE              4.133332\n",
       "BUSINESS               4.129761\n",
       "MEDICAL                4.116464\n",
       "LIBRARIES_AND_DEMO     4.113618\n",
       "EVENTS                 4.111388\n",
       "Name: Rating, dtype: float64"
      ]
     },
     "execution_count": 68,
     "metadata": {},
     "output_type": "execute_result"
    }
   ],
   "source": [
    "a=df.groupby('Category')['Rating'].mean().sort_values(ascending=False)\n",
    "a"
   ]
  },
  {
   "cell_type": "code",
   "execution_count": 69,
   "id": "984d911c",
   "metadata": {
    "execution": {
     "iopub.execute_input": "2024-07-13T15:50:26.634956Z",
     "iopub.status.busy": "2024-07-13T15:50:26.634530Z",
     "iopub.status.idle": "2024-07-13T15:50:27.022835Z",
     "shell.execute_reply": "2024-07-13T15:50:27.021660Z"
    },
    "papermill": {
     "duration": 0.421215,
     "end_time": "2024-07-13T15:50:27.025203",
     "exception": false,
     "start_time": "2024-07-13T15:50:26.603988",
     "status": "completed"
    },
    "tags": []
   },
   "outputs": [
    {
     "data": {
      "image/png": "[encoded data removed]",
      "text/plain": [
       "<Figure size 640x480 with 1 Axes>"
      ]
     },
     "metadata": {},
     "output_type": "display_data"
    }
   ],
   "source": [
    "\n",
    "sns.kdeplot(df['Rating'],color='green',shade=True)\n",
    "plt.show()"
   ]
  },
  {
   "cell_type": "code",
   "execution_count": 70,
   "id": "87b3febc",
   "metadata": {
    "execution": {
     "iopub.execute_input": "2024-07-13T15:50:27.086929Z",
     "iopub.status.busy": "2024-07-13T15:50:27.086521Z",
     "iopub.status.idle": "2024-07-13T15:50:27.383513Z",
     "shell.execute_reply": "2024-07-13T15:50:27.382305Z"
    },
    "papermill": {
     "duration": 0.330996,
     "end_time": "2024-07-13T15:50:27.386084",
     "exception": false,
     "start_time": "2024-07-13T15:50:27.055088",
     "status": "completed"
    },
    "tags": []
   },
   "outputs": [
    {
     "data": {
      "image/png": "[encoded data removed]",
      "text/plain": [
       "<Figure size 640x480 with 1 Axes>"
      ]
     },
     "metadata": {},
     "output_type": "display_data"
    }
   ],
   "source": [
    "sns.barplot(x='Type',y='Installs',data=df)\n",
    "plt.show()"
   ]
  },
  {
   "cell_type": "code",
   "execution_count": 71,
   "id": "e3c9900e",
   "metadata": {
    "execution": {
     "iopub.execute_input": "2024-07-13T15:50:27.447304Z",
     "iopub.status.busy": "2024-07-13T15:50:27.446938Z",
     "iopub.status.idle": "2024-07-13T15:50:28.006596Z",
     "shell.execute_reply": "2024-07-13T15:50:28.005300Z"
    },
    "papermill": {
     "duration": 0.593287,
     "end_time": "2024-07-13T15:50:28.009284",
     "exception": false,
     "start_time": "2024-07-13T15:50:27.415997",
     "status": "completed"
    },
    "tags": []
   },
   "outputs": [
    {
     "data": {
      "image/png": "[encoded data removed]",
      "text/plain": [
       "<Figure size 640x480 with 1 Axes>"
      ]
     },
     "metadata": {},
     "output_type": "display_data"
    }
   ],
   "source": [
    "sns.scatterplot(x='Installs',y='Price',hue='Type',data=df)\n",
    "plt.show()"
   ]
  },
  {
   "cell_type": "code",
   "execution_count": 72,
   "id": "b3e7b0d3",
   "metadata": {
    "execution": {
     "iopub.execute_input": "2024-07-13T15:50:28.073175Z",
     "iopub.status.busy": "2024-07-13T15:50:28.072751Z",
     "iopub.status.idle": "2024-07-13T15:50:28.750440Z",
     "shell.execute_reply": "2024-07-13T15:50:28.749280Z"
    },
    "papermill": {
     "duration": 0.712911,
     "end_time": "2024-07-13T15:50:28.752926",
     "exception": false,
     "start_time": "2024-07-13T15:50:28.040015",
     "status": "completed"
    },
    "tags": []
   },
   "outputs": [
    {
     "data": {
      "image/png": "[encoded data removed]",
      "text/plain": [
       "<Figure size 640x480 with 1 Axes>"
      ]
     },
     "metadata": {},
     "output_type": "display_data"
    }
   ],
   "source": [
    "sns.barplot(x='Install Conditions',y='Size In Mbs',data=df)\n",
    "\n",
    "plt.show()"
   ]
  },
  {
   "cell_type": "code",
   "execution_count": 73,
   "id": "e9178889",
   "metadata": {
    "execution": {
     "iopub.execute_input": "2024-07-13T15:50:28.820899Z",
     "iopub.status.busy": "2024-07-13T15:50:28.820394Z",
     "iopub.status.idle": "2024-07-13T15:50:28.842291Z",
     "shell.execute_reply": "2024-07-13T15:50:28.841001Z"
    },
    "papermill": {
     "duration": 0.058446,
     "end_time": "2024-07-13T15:50:28.844673",
     "exception": false,
     "start_time": "2024-07-13T15:50:28.786227",
     "status": "completed"
    },
    "tags": []
   },
   "outputs": [
    {
     "data": {
      "text/html": [
       "<div>\n",
       "<style scoped>\n",
       "    .dataframe tbody tr th:only-of-type {\n",
       "        vertical-align: middle;\n",
       "    }\n",
       "\n",
       "    .dataframe tbody tr th {\n",
       "        vertical-align: top;\n",
       "    }\n",
       "\n",
       "    .dataframe thead th {\n",
       "        text-align: right;\n",
       "    }\n",
       "</style>\n",
       "<table border=\"1\" class=\"dataframe\">\n",
       "  <thead>\n",
       "    <tr style=\"text-align: right;\">\n",
       "      <th></th>\n",
       "      <th>App</th>\n",
       "      <th>Category</th>\n",
       "      <th>Rating</th>\n",
       "      <th>Reviews</th>\n",
       "      <th>Installs</th>\n",
       "      <th>Type</th>\n",
       "      <th>Price</th>\n",
       "      <th>Content Rating</th>\n",
       "      <th>Genres</th>\n",
       "      <th>Last Updated</th>\n",
       "      <th>Current Ver</th>\n",
       "      <th>Android Ver</th>\n",
       "      <th>Size In Mbs</th>\n",
       "      <th>Size in Kbs</th>\n",
       "      <th>Install Conditions</th>\n",
       "    </tr>\n",
       "  </thead>\n",
       "  <tbody>\n",
       "    <tr>\n",
       "      <th>0</th>\n",
       "      <td>Photo Editor &amp; Candy Camera &amp; Grid &amp; ScrapBook</td>\n",
       "      <td>ART_AND_DESIGN</td>\n",
       "      <td>4.106863</td>\n",
       "      <td>159</td>\n",
       "      <td>10000.0</td>\n",
       "      <td>Free</td>\n",
       "      <td>0.0</td>\n",
       "      <td>Everyone</td>\n",
       "      <td>Art &amp; Design</td>\n",
       "      <td>January 7, 2018</td>\n",
       "      <td>1.0.0</td>\n",
       "      <td>4.0.3 and up</td>\n",
       "      <td>19.0</td>\n",
       "      <td>19456.0</td>\n",
       "      <td>low</td>\n",
       "    </tr>\n",
       "    <tr>\n",
       "      <th>1</th>\n",
       "      <td>Coloring book moana</td>\n",
       "      <td>ART_AND_DESIGN</td>\n",
       "      <td>4.207525</td>\n",
       "      <td>967</td>\n",
       "      <td>500000.0</td>\n",
       "      <td>Free</td>\n",
       "      <td>0.0</td>\n",
       "      <td>Everyone</td>\n",
       "      <td>Art &amp; Design;Pretend Play</td>\n",
       "      <td>January 15, 2018</td>\n",
       "      <td>2.0.0</td>\n",
       "      <td>4.0.3 and up</td>\n",
       "      <td>14.0</td>\n",
       "      <td>14336.0</td>\n",
       "      <td>medium</td>\n",
       "    </tr>\n",
       "    <tr>\n",
       "      <th>2</th>\n",
       "      <td>U Launcher Lite – FREE Live Cool Themes, Hide ...</td>\n",
       "      <td>ART_AND_DESIGN</td>\n",
       "      <td>4.700000</td>\n",
       "      <td>87510</td>\n",
       "      <td>5000000.0</td>\n",
       "      <td>Free</td>\n",
       "      <td>0.0</td>\n",
       "      <td>Everyone</td>\n",
       "      <td>Art &amp; Design</td>\n",
       "      <td>August 1, 2018</td>\n",
       "      <td>1.2.4</td>\n",
       "      <td>4.0.3 and up</td>\n",
       "      <td>8.7</td>\n",
       "      <td>8908.8</td>\n",
       "      <td>high</td>\n",
       "    </tr>\n",
       "    <tr>\n",
       "      <th>3</th>\n",
       "      <td>Sketch - Draw &amp; Paint</td>\n",
       "      <td>ART_AND_DESIGN</td>\n",
       "      <td>4.500000</td>\n",
       "      <td>215644</td>\n",
       "      <td>50000000.0</td>\n",
       "      <td>Free</td>\n",
       "      <td>0.0</td>\n",
       "      <td>Teen</td>\n",
       "      <td>Art &amp; Design</td>\n",
       "      <td>June 8, 2018</td>\n",
       "      <td>Varies with device</td>\n",
       "      <td>4.2 and up</td>\n",
       "      <td>25.0</td>\n",
       "      <td>25600.0</td>\n",
       "      <td>very high</td>\n",
       "    </tr>\n",
       "    <tr>\n",
       "      <th>4</th>\n",
       "      <td>Pixel Draw - Number Art Coloring Book</td>\n",
       "      <td>ART_AND_DESIGN</td>\n",
       "      <td>4.106863</td>\n",
       "      <td>967</td>\n",
       "      <td>100000.0</td>\n",
       "      <td>Free</td>\n",
       "      <td>0.0</td>\n",
       "      <td>Everyone</td>\n",
       "      <td>Art &amp; Design;Creativity</td>\n",
       "      <td>June 20, 2018</td>\n",
       "      <td>1.1</td>\n",
       "      <td>4.4 and up</td>\n",
       "      <td>2.8</td>\n",
       "      <td>2867.2</td>\n",
       "      <td>low</td>\n",
       "    </tr>\n",
       "  </tbody>\n",
       "</table>\n",
       "</div>"
      ],
      "text/plain": [
       "                                                 App        Category  \\\n",
       "0     Photo Editor & Candy Camera & Grid & ScrapBook  ART_AND_DESIGN   \n",
       "1                                Coloring book moana  ART_AND_DESIGN   \n",
       "2  U Launcher Lite – FREE Live Cool Themes, Hide ...  ART_AND_DESIGN   \n",
       "3                              Sketch - Draw & Paint  ART_AND_DESIGN   \n",
       "4              Pixel Draw - Number Art Coloring Book  ART_AND_DESIGN   \n",
       "\n",
       "     Rating  Reviews    Installs  Type  Price Content Rating  \\\n",
       "0  4.106863      159     10000.0  Free    0.0       Everyone   \n",
       "1  4.207525      967    500000.0  Free    0.0       Everyone   \n",
       "2  4.700000    87510   5000000.0  Free    0.0       Everyone   \n",
       "3  4.500000   215644  50000000.0  Free    0.0           Teen   \n",
       "4  4.106863      967    100000.0  Free    0.0       Everyone   \n",
       "\n",
       "                      Genres      Last Updated         Current Ver  \\\n",
       "0               Art & Design   January 7, 2018               1.0.0   \n",
       "1  Art & Design;Pretend Play  January 15, 2018               2.0.0   \n",
       "2               Art & Design    August 1, 2018               1.2.4   \n",
       "3               Art & Design      June 8, 2018  Varies with device   \n",
       "4    Art & Design;Creativity     June 20, 2018                 1.1   \n",
       "\n",
       "    Android Ver  Size In Mbs  Size in Kbs Install Conditions  \n",
       "0  4.0.3 and up         19.0      19456.0                low  \n",
       "1  4.0.3 and up         14.0      14336.0             medium  \n",
       "2  4.0.3 and up          8.7       8908.8               high  \n",
       "3    4.2 and up         25.0      25600.0          very high  \n",
       "4    4.4 and up          2.8       2867.2                low  "
      ]
     },
     "execution_count": 73,
     "metadata": {},
     "output_type": "execute_result"
    }
   ],
   "source": [
    "df.head()"
   ]
  },
  {
   "cell_type": "code",
   "execution_count": 74,
   "id": "eb9f0334",
   "metadata": {
    "execution": {
     "iopub.execute_input": "2024-07-13T15:50:28.908219Z",
     "iopub.status.busy": "2024-07-13T15:50:28.907539Z",
     "iopub.status.idle": "2024-07-13T15:50:28.917013Z",
     "shell.execute_reply": "2024-07-13T15:50:28.915819Z"
    },
    "papermill": {
     "duration": 0.04376,
     "end_time": "2024-07-13T15:50:28.919257",
     "exception": false,
     "start_time": "2024-07-13T15:50:28.875497",
     "status": "completed"
    },
    "tags": []
   },
   "outputs": [
    {
     "data": {
      "text/plain": [
       "Content Rating\n",
       "Everyone           8372\n",
       "Teen               1146\n",
       "Mature 17+          447\n",
       "Everyone 10+        376\n",
       "Adults only 18+       3\n",
       "Unrated               2\n",
       "Name: count, dtype: int64"
      ]
     },
     "execution_count": 74,
     "metadata": {},
     "output_type": "execute_result"
    }
   ],
   "source": [
    "df['Content Rating'].value_counts()"
   ]
  },
  {
   "cell_type": "code",
   "execution_count": 75,
   "id": "7e3d73c5",
   "metadata": {
    "execution": {
     "iopub.execute_input": "2024-07-13T15:50:28.983547Z",
     "iopub.status.busy": "2024-07-13T15:50:28.983170Z",
     "iopub.status.idle": "2024-07-13T15:50:29.409225Z",
     "shell.execute_reply": "2024-07-13T15:50:29.408097Z"
    },
    "papermill": {
     "duration": 0.461416,
     "end_time": "2024-07-13T15:50:29.411659",
     "exception": false,
     "start_time": "2024-07-13T15:50:28.950243",
     "status": "completed"
    },
    "tags": []
   },
   "outputs": [
    {
     "data": {
      "image/png": "[encoded data removed]",
      "text/plain": [
       "<Figure size 1600x600 with 1 Axes>"
      ]
     },
     "metadata": {},
     "output_type": "display_data"
    }
   ],
   "source": [
    "plt.figure(figsize=(16,6))\n",
    "sns.barplot(x='Content Rating',y='Installs',data=df)\n",
    "plt.show()"
   ]
  },
  {
   "cell_type": "code",
   "execution_count": 76,
   "id": "e76b6446",
   "metadata": {
    "execution": {
     "iopub.execute_input": "2024-07-13T15:50:29.476026Z",
     "iopub.status.busy": "2024-07-13T15:50:29.475627Z",
     "iopub.status.idle": "2024-07-13T15:50:29.488818Z",
     "shell.execute_reply": "2024-07-13T15:50:29.487410Z"
    },
    "papermill": {
     "duration": 0.048193,
     "end_time": "2024-07-13T15:50:29.491208",
     "exception": false,
     "start_time": "2024-07-13T15:50:29.443015",
     "status": "completed"
    },
    "tags": []
   },
   "outputs": [
    {
     "data": {
      "text/plain": [
       "Category\n",
       "FAMILY                 1498\n",
       "TOOLS                   833\n",
       "GAME                    595\n",
       "BUSINESS                412\n",
       "PRODUCTIVITY            396\n",
       "MEDICAL                 390\n",
       "FINANCE                 355\n",
       "LIFESTYLE               337\n",
       "COMMUNICATION           325\n",
       "PERSONALIZATION         318\n",
       "SPORTS                  318\n",
       "PHOTOGRAPHY             307\n",
       "HEALTH_AND_FITNESS      275\n",
       "TRAVEL_AND_LOCAL        230\n",
       "BOOKS_AND_REFERENCE     200\n",
       "SHOPPING                183\n",
       "NEWS_AND_MAGAZINES      168\n",
       "VIDEO_PLAYERS           146\n",
       "MAPS_AND_NAVIGATION     133\n",
       "EDUCATION               121\n",
       "FOOD_AND_DRINK          114\n",
       "SOCIAL                   98\n",
       "LIBRARIES_AND_DEMO       84\n",
       "AUTO_AND_VEHICLES        83\n",
       "HOUSE_AND_HOME           78\n",
       "WEATHER                  78\n",
       "ART_AND_DESIGN           60\n",
       "PARENTING                58\n",
       "EVENTS                   53\n",
       "BEAUTY                   45\n",
       "ENTERTAINMENT            37\n",
       "COMICS                   26\n",
       "DATING                   18\n",
       "Name: count, dtype: int64"
      ]
     },
     "execution_count": 76,
     "metadata": {},
     "output_type": "execute_result"
    }
   ],
   "source": [
    "df['Category'].loc[df['Content Rating']=='Everyone'].value_counts()"
   ]
  },
  {
   "cell_type": "code",
   "execution_count": 77,
   "id": "78cc4a43",
   "metadata": {
    "execution": {
     "iopub.execute_input": "2024-07-13T15:50:29.556648Z",
     "iopub.status.busy": "2024-07-13T15:50:29.556260Z",
     "iopub.status.idle": "2024-07-13T15:50:29.764571Z",
     "shell.execute_reply": "2024-07-13T15:50:29.762592Z"
    },
    "papermill": {
     "duration": 0.243739,
     "end_time": "2024-07-13T15:50:29.766920",
     "exception": false,
     "start_time": "2024-07-13T15:50:29.523181",
     "status": "completed"
    },
    "tags": []
   },
   "outputs": [
    {
     "data": {
      "image/png": "[encoded data removed]",
      "text/plain": [
       "<Figure size 640x480 with 1 Axes>"
      ]
     },
     "metadata": {},
     "output_type": "display_data"
    }
   ],
   "source": [
    "sns.barplot(x='App',y='Rating',data=df[df['Type']=='Paid'].sort_values(by='Rating',ascending=False).head(5))\n",
    "plt.show()"
   ]
  },
  {
   "cell_type": "code",
   "execution_count": 78,
   "id": "32993613",
   "metadata": {
    "execution": {
     "iopub.execute_input": "2024-07-13T15:50:29.833860Z",
     "iopub.status.busy": "2024-07-13T15:50:29.833459Z",
     "iopub.status.idle": "2024-07-13T15:50:30.046918Z",
     "shell.execute_reply": "2024-07-13T15:50:30.045706Z"
    },
    "papermill": {
     "duration": 0.250368,
     "end_time": "2024-07-13T15:50:30.049087",
     "exception": false,
     "start_time": "2024-07-13T15:50:29.798719",
     "status": "completed"
    },
    "tags": []
   },
   "outputs": [
    {
     "data": {
      "image/png": "[encoded data removed]",
      "text/plain": [
       "<Figure size 1600x600 with 1 Axes>"
      ]
     },
     "metadata": {},
     "output_type": "display_data"
    }
   ],
   "source": [
    "plt.figure(figsize=(16,6))\n",
    "sns.barplot(x='App',y='Rating',data=df[df['Type']=='Free'].sort_values(by='Rating',ascending=False).head(5))\n",
    "plt.show()"
   ]
  },
  {
   "cell_type": "code",
   "execution_count": 79,
   "id": "b306f87c",
   "metadata": {
    "execution": {
     "iopub.execute_input": "2024-07-13T15:50:30.115389Z",
     "iopub.status.busy": "2024-07-13T15:50:30.115021Z",
     "iopub.status.idle": "2024-07-13T15:50:30.355993Z",
     "shell.execute_reply": "2024-07-13T15:50:30.354723Z"
    },
    "papermill": {
     "duration": 0.276902,
     "end_time": "2024-07-13T15:50:30.358257",
     "exception": false,
     "start_time": "2024-07-13T15:50:30.081355",
     "status": "completed"
    },
    "tags": []
   },
   "outputs": [
    {
     "data": {
      "image/png": "[encoded data removed]",
      "text/plain": [
       "<Figure size 1600x600 with 1 Axes>"
      ]
     },
     "metadata": {},
     "output_type": "display_data"
    }
   ],
   "source": [
    "plt.figure(figsize=(16,6))\n",
    "sns.barplot(x='App',y='Reviews',data=df[df['Type']=='Free'].sort_values(by='Reviews',ascending=False).head(5))\n",
    "plt.show()"
   ]
  },
  {
   "cell_type": "markdown",
   "id": "59f9ef38",
   "metadata": {
    "papermill": {
     "duration": 0.033288,
     "end_time": "2024-07-13T15:50:30.424576",
     "exception": false,
     "start_time": "2024-07-13T15:50:30.391288",
     "status": "completed"
    },
    "tags": []
   },
   "source": [
    "# (3)Conclusion:\n",
    "We have made the following conclusions by analyzing this data\n",
    "If downloads are increased ,reviews,rating also increased\n",
    "free apps have the more downloads\n",
    "family category has the most downloads\n",
    "every10+ has the most downloads\n",
    "etc...........\n",
    "Thanks "
   ]
  }
 ],
 "metadata": {
  "kaggle": {
   "accelerator": "none",
   "dataSources": [
    {
     "datasetId": 49864,
     "sourceId": 274957,
     "sourceType": "datasetVersion"
    }
   ],
   "dockerImageVersionId": 30746,
   "isGpuEnabled": false,
   "isInternetEnabled": true,
   "language": "python",
   "sourceType": "notebook"
  },
  "kernelspec": {
   "display_name": "Python 3",
   "language": "python",
   "name": "python3"
  },
  "language_info": {
   "codemirror_mode": {
    "name": "ipython",
    "version": 3
   },
   "file_extension": ".py",
   "mimetype": "text/x-python",
   "name": "python",
   "nbconvert_exporter": "python",
   "pygments_lexer": "ipython3",
   "version": "3.10.13"
  },
  "papermill": {
   "default_parameters": {},
   "duration": 19.467796,
   "end_time": "2024-07-13T15:50:31.079238",
   "environment_variables": {},
   "exception": null,
   "input_path": "__notebook__.ipynb",
   "output_path": "__notebook__.ipynb",
   "parameters": {},
   "start_time": "2024-07-13T15:50:11.611442",
   "version": "2.5.0"
  }
 },
 "nbformat": 4,
 "nbformat_minor": 5
}
